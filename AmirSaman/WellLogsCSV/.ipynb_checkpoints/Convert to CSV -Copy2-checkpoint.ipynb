{
 "cells": [
  {
   "cell_type": "code",
   "execution_count": 15,
   "metadata": {},
   "outputs": [],
   "source": [
    "import lasio, os"
   ]
  },
  {
   "cell_type": "code",
   "execution_count": 16,
   "metadata": {},
   "outputs": [],
   "source": [
    "def convertToCSV(file,name):\n",
    "    name = name+\".csv\"\n",
    "    las = lasio.read(file)\n",
    "    df = las.df()\n",
    "    df.drop_duplicates(inplace=True)\n",
    "    df.to_csv(name)\n",
    "    \n",
    "    "
   ]
  },
  {
   "cell_type": "code",
   "execution_count": 20,
   "metadata": {},
   "outputs": [
    {
     "name": "stderr",
     "output_type": "stream",
     "text": [
      "/data/anaconda/envs/nazmi-py37/lib/python3.7/site-packages/lasio/las.py:255: FutureWarning: elementwise comparison failed; returning scalar instead, but in the future will perform elementwise comparison\n",
      "  arr[arr == null] = np.nan\n",
      "Header section Parameter regexp=~P was not found.\n"
     ]
    }
   ],
   "source": [
    "convertToCSV(\"../../data/PETROPHYSICS/WELL-1_COMPOSITE.LAS\",\"WELL-1_COMPOSITE\")\n",
    "convertToCSV(\"../../data/PETROPHYSICS/WELL-1_INTERPRETED.LAS\",\"WELL-1_INTERPRETED\")\n",
    "convertToCSV(\"../../data/PETROPHYSICS/WELL-2_COMPOSITE.LAS\",\"WELL-2_COMPOSITE\")\n",
    "convertToCSV(\"../../data/PETROPHYSICS/WELL-2_INTERPRETED.LAS\",\"WELL-2_INTERPRETED\")\n",
    "convertToCSV(\"../../data/PETROPHYSICS/WELL-3_COMPOSITE.LAS\",\"WELL-3_COMPOSITE\")\n",
    "convertToCSV(\"../../data/PETROPHYSICS/WELL-3_INTERPRETED.LAS\",\"WELL-3_INTERPRETED\")\n",
    "convertToCSV(\"../../data/PETROPHYSICS/WELL-4_COMPOSITE.LAS\",\"WELL-4_COMPOSITE\")\n",
    "convertToCSV(\"../../data/PETROPHYSICS/WELL-4_INTERPRETED.las\",\"WELL-4_INTERPRETED\")\n",
    "convertToCSV(\"../../data/PETROPHYSICS/WELL-5_COMPOSITE.LAS\",\"WELL-5_COMPOSITE\")\n",
    "convertToCSV(\"../../data/PETROPHYSICS/WELL-5_INTERP.las\",\"WELL-5_INTERP\")\n",
    "convertToCSV(\"../../data/PETROPHYSICS/WELL-6_COMPOSITE.LAS\",\"WELL-6_COMPOSITE\")\n",
    "convertToCSV(\"../../data/PETROPHYSICS/WELL-6G-1.1_INTERPRETED.las\",\"WELL-6G-1.1_INTERPRETED\")\n",
    "convertToCSV(\"../../data/PETROPHYSICS/WELL-6G-1.1B_INTERPRETED.LAS\",\"WELL-6G-1.1B_INTERPRETED\")\n",
    "convertToCSV(\"../../data/PETROPHYSICS/WELL-6G-1.2_INTERPRETED_2019.LAS\",\"WELL-6G-1.2_INTERPRETED_2019\")\n",
    "convertToCSV(\"../../data/PETROPHYSICS/WELL-6G-1.3_REVISED_CLIPS_2019.LAS\",\"WELL-6G-1.3_REVISED_CLIPS_2019\")\n",
    "convertToCSV(\"../../data/PETROPHYSICS/WELL-6G-1.4_CLIPS_2019.LAS\",\"WELL-6G-1.4_CLIPS_2019\")\n",
    "convertToCSV(\"../../data/PETROPHYSICS/WELL-6G-1.5_CLIPS_2019.LAS\",\"WELL-6G-1.5_CLIPS_2019\")\n",
    "convertToCSV(\"../../data/PETROPHYSICS/WELL-6G-1.6_CLIPS_2019.LAS\",\"WELL-6G-1.6_CLIPS_2019\")\n",
    "convertToCSV(\"../../data/PETROPHYSICS/WELL-6G-1.7_REVISED_CLIPS_2019.LAS\",\"WELL-6G-1.7_REVISED_CLIPS_2019\")\n",
    "convertToCSV(\"../../data/PETROPHYSICS/WELL-6G-7.1_CLIPS_2019.LAS\",\"WELL-6G-7.1_CLIPS_2019\")\n",
    "convertToCSV(\"../../data/PETROPHYSICS/WELL-6S1_CLIPS_2019.LAS\",\"WELL-6S1_CLIPS_2019\")\n",
    "convertToCSV(\"../../data/PETROPHYSICS/WELL-7_CLIPS_2019.LAS\",\"WELL-7_CLIPS_2019\")\n"
   ]
  }
 ],
 "metadata": {
  "kernelspec": {
   "display_name": "nazmi-py37",
   "language": "python",
   "name": "nazmi-py37"
  },
  "language_info": {
   "codemirror_mode": {
    "name": "ipython",
    "version": 3
   },
   "file_extension": ".py",
   "mimetype": "text/x-python",
   "name": "python",
   "nbconvert_exporter": "python",
   "pygments_lexer": "ipython3",
   "version": "3.7.4"
  }
 },
 "nbformat": 4,
 "nbformat_minor": 2
}
