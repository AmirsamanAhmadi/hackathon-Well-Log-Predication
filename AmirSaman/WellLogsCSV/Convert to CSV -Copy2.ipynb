{
 "cells": [
  {
   "cell_type": "code",
   "execution_count": 8,
   "metadata": {},
   "outputs": [],
   "source": [
    "import lasio"
   ]
  },
  {
   "cell_type": "code",
   "execution_count": 9,
   "metadata": {},
   "outputs": [],
   "source": [
    "def convertToCSV(file,name):\n",
    "    name = name+\".txt\"\n",
    "    las = lasio.read(file)\n",
    "    df = las.df()\n",
    "    df.drop_duplicates(inplace=True)\n",
    "    df.to_csv(name,sep=\" \")\n",
    "    \n",
    "    "
   ]
  },
  {
   "cell_type": "code",
   "execution_count": 10,
   "metadata": {},
   "outputs": [
    {
     "name": "stderr",
     "output_type": "stream",
     "text": [
      "Header section Parameter regexp=~P was not found.\n"
     ]
    }
   ],
   "source": [
    "convertToCSV(\"../../data/PETROPHYSICS/WELL-1_COMPOSITE.LAS\",\"WELL-1_COMPOSITE\")\n",
    "convertToCSV(\"../../data/PETROPHYSICS/WELL-2_COMPOSITE.LAS\",\"WELL-2_COMPOSITE\")\n",
    "convertToCSV(\"../../data/PETROPHYSICS/WELL-3_COMPOSITE.LAS\",\"WELL-3_COMPOSITE\")\n",
    "convertToCSV(\"../../data/PETROPHYSICS/WELL-4_COMPOSITE.LAS\",\"WELL-4_COMPOSITE\")\n",
    "convertToCSV(\"../../data/PETROPHYSICS/WELL-5_COMPOSITE.LAS\",\"WELL-5_COMPOSITE\")\n",
    "convertToCSV(\"../../data/PETROPHYSICS/WELL-6_COMPOSITE.LAS\",\"WELL-6_COMPOSITE\")"
   ]
  }
 ],
 "metadata": {
  "kernelspec": {
   "display_name": "nazmi-py37",
   "language": "python",
   "name": "nazmi-py37"
  },
  "language_info": {
   "codemirror_mode": {
    "name": "ipython",
    "version": 3
   },
   "file_extension": ".py",
   "mimetype": "text/x-python",
   "name": "python",
   "nbconvert_exporter": "python",
   "pygments_lexer": "ipython3",
   "version": "3.7.4"
  }
 },
 "nbformat": 4,
 "nbformat_minor": 2
}
