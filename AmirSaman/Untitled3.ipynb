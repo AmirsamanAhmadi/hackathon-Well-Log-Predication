{
 "cells": [
  {
   "cell_type": "code",
   "execution_count": 1,
   "metadata": {},
   "outputs": [],
   "source": [
    "\n",
    "import re\n",
    "import matplotlib.pyplot as plt\n",
    "import numpy as np\n",
    "import pandas as pd\n",
    "import segyio\n",
    "\n",
    "filename = '../data/SEISMIC/MYS20104DM2/MYS20104DM2_FILT_SCAL_DEPTH_MIGR_in_depth_base.sgy'"
   ]
  },
  {
   "cell_type": "code",
   "execution_count": 2,
   "metadata": {},
   "outputs": [],
   "source": [
    "def parse_trace_headers(segyfile, n_traces):\n",
    "    '''\n",
    "    Parse the segy file trace headers into a pandas dataframe.\n",
    "    Column names are defined from segyio internal tracefield\n",
    "    One row per trace\n",
    "    '''\n",
    "    # Get all header keys\n",
    "    headers = segyio.tracefield.keys\n",
    "    # Initialize dataframe with trace id as index and headers as columns\n",
    "    df = pd.DataFrame(index=range(1, n_traces + 1),\n",
    "                      columns=headers.keys())\n",
    "    # Fill dataframe with all header values\n",
    "    for k, v in headers.items():\n",
    "        df[k] = segyfile.attributes(v)[:]\n",
    "    return df\n",
    "\n",
    "\n",
    "def parse_text_header(segyfile):\n",
    "    '''\n",
    "    Format segy text header into a readable, clean dict\n",
    "    '''\n",
    "    raw_header = segyio.tools.wrap(segyfile.text[0])\n",
    "    # Cut on C*int pattern\n",
    "    cut_header = re.split(r'C ', raw_header)[1::]\n",
    "    # Remove end of line return\n",
    "    text_header = [x.replace('\\n', ' ') for x in cut_header]\n",
    "    text_header[-1] = text_header[-1][:-2]\n",
    "    # Format in dict\n",
    "    clean_header = {}\n",
    "    i = 1\n",
    "    for item in text_header:\n",
    "        key = \"C\" + str(i).rjust(2, '0')\n",
    "        i += 1\n",
    "        clean_header[key] = item\n",
    "    return clean_header"
   ]
  },
  {
   "cell_type": "code",
   "execution_count": 3,
   "metadata": {},
   "outputs": [
    {
     "data": {
      "text/plain": [
       "'N Traces: 7920000, N Samples: 3334, Sample rate: 3.0ms'"
      ]
     },
     "execution_count": 3,
     "metadata": {},
     "output_type": "execute_result"
    }
   ],
   "source": [
    "with segyio.open(filename, ignore_geometry=True) as f:\n",
    "    # Get basic attributes\n",
    "    n_traces = f.tracecount\n",
    "    sample_rate = segyio.tools.dt(f) / 1000\n",
    "    n_samples = f.samples.size\n",
    "    twt = f.samples\n",
    "#     data = f.trace.raw[:]  # Get all data into memory (could cause on big files)\n",
    "    # Load headers\n",
    "    bin_headers = f.bin\n",
    "    text_headers = parse_text_header(f)\n",
    "    trace_headers = parse_trace_headers(f, n_traces)\n",
    "f'N Traces: {n_traces}, N Samples: {n_samples}, Sample rate: {sample_rate}ms'"
   ]
  },
  {
   "cell_type": "code",
   "execution_count": 4,
   "metadata": {},
   "outputs": [
    {
     "data": {
      "text/plain": [
       "{JobID: 1, LineNumber: 1, ReelNumber: 1, Traces: 1, AuxTraces: 0, Interval: 3000, IntervalOriginal: 0, Samples: 3334, SamplesOriginal: 0, Format: 1, EnsembleFold: 1, SortingCode: 4, VerticalSum: 1, SweepFrequencyStart: 0, SweepFrequencyEnd: 0, SweepLength: 0, Sweep: 0, SweepChannel: 0, SweepTaperStart: 0, SweepTaperEnd: 0, Taper: 0, CorrelatedTraces: 0, BinaryGainRecovery: 0, AmplitudeRecovery: 0, MeasurementSystem: 1, ImpulseSignalPolarity: 1, VibratoryPolarity: 0, SEGYRevision: 0, TraceFlag: 0, ExtendedHeaders: 0}"
      ]
     },
     "execution_count": 4,
     "metadata": {},
     "output_type": "execute_result"
    }
   ],
   "source": [
    "bin_headers\n"
   ]
  },
  {
   "cell_type": "code",
   "execution_count": 5,
   "metadata": {},
   "outputs": [
    {
     "data": {
      "text/plain": [
       "{'C01': '3D PSDM(SAME     C28 MODEL AS 3D APSDM ROUTE,APER:5KM,DIP:90),DEPTH-TIME CONVERT(SMOOTH MODEL)   C29 HDVA(50M X 50M),POST MIG RADON,MUTE 3-35DEG(LIMIT 3 TRC),STACK,SINGLE FUN',\n",
       " 'C02': ' C30 SCALAR,MEDIAN GAIN,TIME VARIANT FILTER,GUN & CABLE STATIC,TIME-DEPTH CONVERTC31 (WOBBLE FIX SMOOTH MODEL),SEG Y CONVERSION 32 BIT FLOATING POINT,OUTPUT     C32 MEDIA TAPE: 3590E (20GB),POLARITY:POSITIVE PEAK WITH INCREASING ACOUSTI',\n",
       " 'C03': '   C33 IMPEDANCE,BIN CENTER INTERVAL FINAL(ILxXL)=6.25Mx9.375M INCREMENT(IL:XL)=1:1C34 ##### TRACE HEADER DEFINITION, BYTE LOCATION:                              C35 3D CMP   BYTE  021-024 (INT4)   STACKWORD    BYTE  033-034 (HALFWORD)       C36 TOT STATI',\n",
       " 'C04': 'SR',\n",
       " 'C05': 'BYTE 99-100(HALFWORD)  TOT STATI',\n",
       " 'C06': 'RCV BYTE 101-102 (HALFWORD)C37 CDP-X(x100) BYTE 181-184(INT4)         CDP-Y(x100) BYTE 185-188 (INT4)      C38 INLINE BYTE 189-192 (INT4)                   XLINE BYTE 193-196 (INT4)      C39 WDM (x100) BYTE 197-200 (INT4)      DWT STATI',\n",
       " 'C07': '(x100) BYTE 201-204 (INT4)   C40 EBCDI',\n",
       " 'C08': 'END TAPE 1 OF 5                                                      '}"
      ]
     },
     "execution_count": 5,
     "metadata": {},
     "output_type": "execute_result"
    }
   ],
   "source": [
    "text_headers\n"
   ]
  },
  {
   "cell_type": "code",
   "execution_count": 6,
   "metadata": {},
   "outputs": [
    {
     "data": {
      "text/plain": [
       "Index(['TRACE_SEQUENCE_LINE', 'TRACE_SEQUENCE_FILE', 'FieldRecord',\n",
       "       'TraceNumber', 'EnergySourcePoint', 'CDP', 'CDP_TRACE',\n",
       "       'TraceIdentificationCode', 'NSummedTraces', 'NStackedTraces', 'DataUse',\n",
       "       'offset', 'ReceiverGroupElevation', 'SourceSurfaceElevation',\n",
       "       'SourceDepth', 'ReceiverDatumElevation', 'SourceDatumElevation',\n",
       "       'SourceWaterDepth', 'GroupWaterDepth', 'ElevationScalar',\n",
       "       'SourceGroupScalar', 'SourceX', 'SourceY', 'GroupX', 'GroupY',\n",
       "       'CoordinateUnits', 'WeatheringVelocity', 'SubWeatheringVelocity',\n",
       "       'SourceUpholeTime', 'GroupUpholeTime', 'SourceStaticCorrection',\n",
       "       'GroupStaticCorrection', 'TotalStaticApplied', 'LagTimeA', 'LagTimeB',\n",
       "       'DelayRecordingTime', 'MuteTimeStart', 'MuteTimeEND',\n",
       "       'TRACE_SAMPLE_COUNT', 'TRACE_SAMPLE_INTERVAL', 'GainType',\n",
       "       'InstrumentGainConstant', 'InstrumentInitialGain', 'Correlated',\n",
       "       'SweepFrequencyStart', 'SweepFrequencyEnd', 'SweepLength', 'SweepType',\n",
       "       'SweepTraceTaperLengthStart', 'SweepTraceTaperLengthEnd', 'TaperType',\n",
       "       'AliasFilterFrequency', 'AliasFilterSlope', 'NotchFilterFrequency',\n",
       "       'NotchFilterSlope', 'LowCutFrequency', 'HighCutFrequency',\n",
       "       'LowCutSlope', 'HighCutSlope', 'YearDataRecorded', 'DayOfYear',\n",
       "       'HourOfDay', 'MinuteOfHour', 'SecondOfMinute', 'TimeBaseCode',\n",
       "       'TraceWeightingFactor', 'GeophoneGroupNumberRoll1',\n",
       "       'GeophoneGroupNumberFirstTraceOrigField',\n",
       "       'GeophoneGroupNumberLastTraceOrigField', 'GapSize', 'OverTravel',\n",
       "       'CDP_X', 'CDP_Y', 'INLINE_3D', 'CROSSLINE_3D', 'ShotPoint',\n",
       "       'ShotPointScalar', 'TraceValueMeasurementUnit',\n",
       "       'TransductionConstantMantissa', 'TransductionConstantPower',\n",
       "       'TransductionUnit', 'TraceIdentifier', 'ScalarTraceHeader',\n",
       "       'SourceType', 'SourceEnergyDirectionMantissa',\n",
       "       'SourceEnergyDirectionExponent', 'SourceMeasurementMantissa',\n",
       "       'SourceMeasurementExponent', 'SourceMeasurementUnit', 'UnassignedInt1',\n",
       "       'UnassignedInt2'],\n",
       "      dtype='object')"
      ]
     },
     "execution_count": 6,
     "metadata": {},
     "output_type": "execute_result"
    }
   ],
   "source": [
    "trace_headers.columns  # list the trace headers keys\n"
   ]
  },
  {
   "cell_type": "code",
   "execution_count": 7,
   "metadata": {},
   "outputs": [
    {
     "data": {
      "text/html": [
       "<div>\n",
       "<style scoped>\n",
       "    .dataframe tbody tr th:only-of-type {\n",
       "        vertical-align: middle;\n",
       "    }\n",
       "\n",
       "    .dataframe tbody tr th {\n",
       "        vertical-align: top;\n",
       "    }\n",
       "\n",
       "    .dataframe thead th {\n",
       "        text-align: right;\n",
       "    }\n",
       "</style>\n",
       "<table border=\"1\" class=\"dataframe\">\n",
       "  <thead>\n",
       "    <tr style=\"text-align: right;\">\n",
       "      <th></th>\n",
       "      <th>TRACE_SEQUENCE_LINE</th>\n",
       "      <th>TRACE_SEQUENCE_FILE</th>\n",
       "      <th>FieldRecord</th>\n",
       "      <th>TraceNumber</th>\n",
       "      <th>EnergySourcePoint</th>\n",
       "      <th>CDP</th>\n",
       "      <th>CDP_TRACE</th>\n",
       "      <th>TraceIdentificationCode</th>\n",
       "      <th>NSummedTraces</th>\n",
       "      <th>NStackedTraces</th>\n",
       "      <th>...</th>\n",
       "      <th>TraceIdentifier</th>\n",
       "      <th>ScalarTraceHeader</th>\n",
       "      <th>SourceType</th>\n",
       "      <th>SourceEnergyDirectionMantissa</th>\n",
       "      <th>SourceEnergyDirectionExponent</th>\n",
       "      <th>SourceMeasurementMantissa</th>\n",
       "      <th>SourceMeasurementExponent</th>\n",
       "      <th>SourceMeasurementUnit</th>\n",
       "      <th>UnassignedInt1</th>\n",
       "      <th>UnassignedInt2</th>\n",
       "    </tr>\n",
       "  </thead>\n",
       "  <tbody>\n",
       "    <tr>\n",
       "      <th>1</th>\n",
       "      <td>1</td>\n",
       "      <td>1976</td>\n",
       "      <td>1976</td>\n",
       "      <td>1</td>\n",
       "      <td>0</td>\n",
       "      <td>2700</td>\n",
       "      <td>1</td>\n",
       "      <td>1</td>\n",
       "      <td>0</td>\n",
       "      <td>0</td>\n",
       "      <td>...</td>\n",
       "      <td>0</td>\n",
       "      <td>0</td>\n",
       "      <td>0</td>\n",
       "      <td>0</td>\n",
       "      <td>0</td>\n",
       "      <td>0</td>\n",
       "      <td>0</td>\n",
       "      <td>0</td>\n",
       "      <td>0</td>\n",
       "      <td>0</td>\n",
       "    </tr>\n",
       "    <tr>\n",
       "      <th>2</th>\n",
       "      <td>2</td>\n",
       "      <td>1976</td>\n",
       "      <td>1976</td>\n",
       "      <td>2</td>\n",
       "      <td>0</td>\n",
       "      <td>2701</td>\n",
       "      <td>1</td>\n",
       "      <td>1</td>\n",
       "      <td>0</td>\n",
       "      <td>0</td>\n",
       "      <td>...</td>\n",
       "      <td>0</td>\n",
       "      <td>0</td>\n",
       "      <td>0</td>\n",
       "      <td>0</td>\n",
       "      <td>0</td>\n",
       "      <td>0</td>\n",
       "      <td>0</td>\n",
       "      <td>0</td>\n",
       "      <td>0</td>\n",
       "      <td>0</td>\n",
       "    </tr>\n",
       "    <tr>\n",
       "      <th>3</th>\n",
       "      <td>3</td>\n",
       "      <td>1976</td>\n",
       "      <td>1976</td>\n",
       "      <td>3</td>\n",
       "      <td>0</td>\n",
       "      <td>2702</td>\n",
       "      <td>1</td>\n",
       "      <td>1</td>\n",
       "      <td>0</td>\n",
       "      <td>0</td>\n",
       "      <td>...</td>\n",
       "      <td>0</td>\n",
       "      <td>0</td>\n",
       "      <td>0</td>\n",
       "      <td>0</td>\n",
       "      <td>0</td>\n",
       "      <td>0</td>\n",
       "      <td>0</td>\n",
       "      <td>0</td>\n",
       "      <td>0</td>\n",
       "      <td>0</td>\n",
       "    </tr>\n",
       "    <tr>\n",
       "      <th>4</th>\n",
       "      <td>4</td>\n",
       "      <td>1976</td>\n",
       "      <td>1976</td>\n",
       "      <td>4</td>\n",
       "      <td>0</td>\n",
       "      <td>2703</td>\n",
       "      <td>1</td>\n",
       "      <td>1</td>\n",
       "      <td>0</td>\n",
       "      <td>0</td>\n",
       "      <td>...</td>\n",
       "      <td>0</td>\n",
       "      <td>0</td>\n",
       "      <td>0</td>\n",
       "      <td>0</td>\n",
       "      <td>0</td>\n",
       "      <td>0</td>\n",
       "      <td>0</td>\n",
       "      <td>0</td>\n",
       "      <td>0</td>\n",
       "      <td>0</td>\n",
       "    </tr>\n",
       "    <tr>\n",
       "      <th>5</th>\n",
       "      <td>5</td>\n",
       "      <td>1976</td>\n",
       "      <td>1976</td>\n",
       "      <td>5</td>\n",
       "      <td>0</td>\n",
       "      <td>2704</td>\n",
       "      <td>1</td>\n",
       "      <td>1</td>\n",
       "      <td>0</td>\n",
       "      <td>0</td>\n",
       "      <td>...</td>\n",
       "      <td>0</td>\n",
       "      <td>0</td>\n",
       "      <td>0</td>\n",
       "      <td>0</td>\n",
       "      <td>0</td>\n",
       "      <td>0</td>\n",
       "      <td>0</td>\n",
       "      <td>0</td>\n",
       "      <td>0</td>\n",
       "      <td>0</td>\n",
       "    </tr>\n",
       "  </tbody>\n",
       "</table>\n",
       "<p>5 rows × 91 columns</p>\n",
       "</div>"
      ],
      "text/plain": [
       "   TRACE_SEQUENCE_LINE  TRACE_SEQUENCE_FILE  FieldRecord  TraceNumber  \\\n",
       "1                    1                 1976         1976            1   \n",
       "2                    2                 1976         1976            2   \n",
       "3                    3                 1976         1976            3   \n",
       "4                    4                 1976         1976            4   \n",
       "5                    5                 1976         1976            5   \n",
       "\n",
       "   EnergySourcePoint   CDP  CDP_TRACE  TraceIdentificationCode  NSummedTraces  \\\n",
       "1                  0  2700          1                        1              0   \n",
       "2                  0  2701          1                        1              0   \n",
       "3                  0  2702          1                        1              0   \n",
       "4                  0  2703          1                        1              0   \n",
       "5                  0  2704          1                        1              0   \n",
       "\n",
       "   NStackedTraces  ...  TraceIdentifier  ScalarTraceHeader  SourceType  \\\n",
       "1               0  ...                0                  0           0   \n",
       "2               0  ...                0                  0           0   \n",
       "3               0  ...                0                  0           0   \n",
       "4               0  ...                0                  0           0   \n",
       "5               0  ...                0                  0           0   \n",
       "\n",
       "   SourceEnergyDirectionMantissa  SourceEnergyDirectionExponent  \\\n",
       "1                              0                              0   \n",
       "2                              0                              0   \n",
       "3                              0                              0   \n",
       "4                              0                              0   \n",
       "5                              0                              0   \n",
       "\n",
       "   SourceMeasurementMantissa  SourceMeasurementExponent  \\\n",
       "1                          0                          0   \n",
       "2                          0                          0   \n",
       "3                          0                          0   \n",
       "4                          0                          0   \n",
       "5                          0                          0   \n",
       "\n",
       "   SourceMeasurementUnit  UnassignedInt1  UnassignedInt2  \n",
       "1                      0               0               0  \n",
       "2                      0               0               0  \n",
       "3                      0               0               0  \n",
       "4                      0               0               0  \n",
       "5                      0               0               0  \n",
       "\n",
       "[5 rows x 91 columns]"
      ]
     },
     "execution_count": 7,
     "metadata": {},
     "output_type": "execute_result"
    }
   ],
   "source": [
    "trace_headers.head()\n"
   ]
  },
  {
   "cell_type": "code",
   "execution_count": 8,
   "metadata": {},
   "outputs": [
    {
     "data": {
      "text/plain": [
       "1976"
      ]
     },
     "execution_count": 8,
     "metadata": {},
     "output_type": "execute_result"
    }
   ],
   "source": [
    "trace_headers.loc[1, 'FieldRecord']\n"
   ]
  },
  {
   "cell_type": "code",
   "execution_count": 9,
   "metadata": {},
   "outputs": [
    {
     "data": {
      "text/plain": [
       "Text(0.5, 1.0, 'Basic Header QC')"
      ]
     },
     "execution_count": 9,
     "metadata": {},
     "output_type": "execute_result"
    },
    {
     "data": {
      "image/png": "[encoded data removed]",
      "text/plain": [
       "<Figure size 864x576 with 1 Axes>"
      ]
     },
     "metadata": {},
     "output_type": "display_data"
    }
   ],
   "source": [
    "plt.style.use('ggplot')  # Use ggplot styles for all plotting\n",
    "fig = plt.figure(figsize=(12, 8))\n",
    "ax = fig.add_subplot(1, 1, 1)\n",
    "ax.plot(trace_headers['FieldRecord'], trace_headers['TRACE_SEQUENCE_FILE'], '-k')\n",
    "ax.set_xlabel('Field Record Number (FFID)')\n",
    "ax.set_ylabel('Trace sequence within file')\n",
    "ax.set_title('Basic Header QC')"
   ]
  },
  {
   "cell_type": "code",
   "execution_count": 11,
   "metadata": {},
   "outputs": [
    {
     "ename": "NameError",
     "evalue": "name 'data' is not defined",
     "output_type": "error",
     "traceback": [
      "\u001b[0;31m---------------------------------------------------------------------------\u001b[0m",
      "\u001b[0;31mNameError\u001b[0m                                 Traceback (most recent call last)",
      "\u001b[0;32m<ipython-input-11-c032ef267e62>\u001b[0m in \u001b[0;36m<module>\u001b[0;34m\u001b[0m\n\u001b[1;32m      1\u001b[0m \u001b[0mclip_percentile\u001b[0m \u001b[0;34m=\u001b[0m \u001b[0;36m99\u001b[0m\u001b[0;34m\u001b[0m\u001b[0;34m\u001b[0m\u001b[0m\n\u001b[0;32m----> 2\u001b[0;31m \u001b[0mvm\u001b[0m \u001b[0;34m=\u001b[0m \u001b[0mnp\u001b[0m\u001b[0;34m.\u001b[0m\u001b[0mpercentile\u001b[0m\u001b[0;34m(\u001b[0m\u001b[0mdata\u001b[0m\u001b[0;34m,\u001b[0m \u001b[0mclip_percentile\u001b[0m\u001b[0;34m)\u001b[0m\u001b[0;34m\u001b[0m\u001b[0;34m\u001b[0m\u001b[0m\n\u001b[0m\u001b[1;32m      3\u001b[0m \u001b[0;34mf'The {clip_percentile}th percentile is {vm:.0f}; the max amplitude is {data.max():.0f}'\u001b[0m\u001b[0;34m\u001b[0m\u001b[0;34m\u001b[0m\u001b[0m\n",
      "\u001b[0;31mNameError\u001b[0m: name 'data' is not defined"
     ]
    }
   ],
   "source": [
    "clip_percentile = 99\n",
    "vm = np.percentile(data, clip_percentile)\n",
    "f'The {clip_percentile}th percentile is {vm:.0f}; the max amplitude is {data.max():.0f}'"
   ]
  }
 ],
 "metadata": {
  "kernelspec": {
   "display_name": "nazmi-py37",
   "language": "python",
   "name": "nazmi-py37"
  },
  "language_info": {
   "codemirror_mode": {
    "name": "ipython",
    "version": 3
   },
   "file_extension": ".py",
   "mimetype": "text/x-python",
   "name": "python",
   "nbconvert_exporter": "python",
   "pygments_lexer": "ipython3",
   "version": "3.7.4"
  }
 },
 "nbformat": 4,
 "nbformat_minor": 2
}
