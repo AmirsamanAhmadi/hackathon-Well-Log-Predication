{
 "cells": [
  {
   "cell_type": "code",
   "execution_count": 2,
   "metadata": {},
   "outputs": [
    {
     "data": {
      "text/plain": [
       "{TRACE_SEQUENCE_LINE: 11, TRACE_SEQUENCE_FILE: 1501, FieldRecord: 1501, TraceNumber: 11, EnergySourcePoint: 0, CDP: 2080, CDP_TRACE: 1, TraceIdentificationCode: 1, NSummedTraces: 0, NStackedTraces: 0, DataUse: 1, offset: 0, ReceiverGroupElevation: 0, SourceSurfaceElevation: 0, SourceDepth: 0, ReceiverDatumElevation: 0, SourceDatumElevation: 0, SourceWaterDepth: 0, GroupWaterDepth: 0, ElevationScalar: 1, SourceGroupScalar: -100, SourceX: -2508041, SourceY: 1819154, GroupX: 0, GroupY: 0, CoordinateUnits: 1, WeatheringVelocity: 0, SubWeatheringVelocity: 0, SourceUpholeTime: 0, GroupUpholeTime: 0, SourceStaticCorrection: 0, GroupStaticCorrection: 0, TotalStaticApplied: 0, LagTimeA: 0, LagTimeB: 0, DelayRecordingTime: 0, MuteTimeStart: 0, MuteTimeEND: 0, TRACE_SAMPLE_COUNT: 356, TRACE_SAMPLE_INTERVAL: 20000, GainType: 0, InstrumentGainConstant: 0, InstrumentInitialGain: 0, Correlated: 1, SweepFrequencyStart: 0, SweepFrequencyEnd: 0, SweepLength: 0, SweepType: 1, SweepTraceTaperLengthStart: 0, SweepTraceTaperLengthEnd: 0, TaperType: 1, AliasFilterFrequency: 0, AliasFilterSlope: 0, NotchFilterFrequency: 0, NotchFilterSlope: 0, LowCutFrequency: 0, HighCutFrequency: 0, LowCutSlope: 0, HighCutSlope: 0, YearDataRecorded: 0, DayOfYear: 0, HourOfDay: 0, MinuteOfHour: 0, SecondOfMinute: 0, TimeBaseCode: 1, TraceWeightingFactor: 0, GeophoneGroupNumberRoll1: 0, GeophoneGroupNumberFirstTraceOrigField: 0, GeophoneGroupNumberLastTraceOrigField: 0, GapSize: 0, OverTravel: 0, CDP_X: -2508041, CDP_Y: 1819154, INLINE_3D: 1501, CROSSLINE_3D: 2080, ShotPoint: 0, ShotPointScalar: 0, TraceValueMeasurementUnit: 0, TransductionConstantMantissa: 0, TransductionConstantPower: 0, TransductionUnit: 0, TraceIdentifier: 0, ScalarTraceHeader: 0, SourceType: 0, SourceEnergyDirectionMantissa: 0, SourceEnergyDirectionExponent: 0, SourceMeasurementMantissa: 0, SourceMeasurementExponent: 0, SourceMeasurementUnit: 0}"
      ]
     },
     "execution_count": 2,
     "metadata": {},
     "output_type": "execute_result"
    }
   ],
   "source": [
    "import segyio\n",
    "f = segyio.open(\"../data/SEISMIC/MYS20104DM2/MYS20103DM2_VELOCITY_STACKING_rms_in_time.sgy\")\n",
    "f.header[10]"
   ]
  },
  {
   "cell_type": "code",
   "execution_count": 28,
   "metadata": {},
   "outputs": [
    {
     "data": {
      "text/plain": [
       "{TRACE_SEQUENCE_LINE: 24, TRACE_SEQUENCE_FILE: 1976, FieldRecord: 1976, TraceNumber: 24, EnergySourcePoint: 0, CDP: 2723, CDP_TRACE: 1, TraceIdentificationCode: 1, NSummedTraces: 0, NStackedTraces: 0, DataUse: 1, offset: 0, ReceiverGroupElevation: 0, SourceSurfaceElevation: 0, SourceDepth: 0, ReceiverDatumElevation: 0, SourceDatumElevation: 0, SourceWaterDepth: 0, GroupWaterDepth: 0, ElevationScalar: 1, SourceGroupScalar: -100, SourceX: -2207533, SourceY: 1300018, GroupX: 0, GroupY: 0, CoordinateUnits: 1, WeatheringVelocity: 0, SubWeatheringVelocity: 0, SourceUpholeTime: 0, GroupUpholeTime: 0, SourceStaticCorrection: 0, GroupStaticCorrection: 0, TotalStaticApplied: 0, LagTimeA: 0, LagTimeB: 0, DelayRecordingTime: 0, MuteTimeStart: 0, MuteTimeEND: 0, TRACE_SAMPLE_COUNT: 3001, TRACE_SAMPLE_INTERVAL: 2000, GainType: 0, InstrumentGainConstant: 0, InstrumentInitialGain: 0, Correlated: 1, SweepFrequencyStart: 0, SweepFrequencyEnd: 0, SweepLength: 0, SweepType: 1, SweepTraceTaperLengthStart: 0, SweepTraceTaperLengthEnd: 0, TaperType: 1, AliasFilterFrequency: 0, AliasFilterSlope: 0, NotchFilterFrequency: 0, NotchFilterSlope: 0, LowCutFrequency: 0, HighCutFrequency: 0, LowCutSlope: 0, HighCutSlope: 0, YearDataRecorded: 0, DayOfYear: 0, HourOfDay: 0, MinuteOfHour: 0, SecondOfMinute: 0, TimeBaseCode: 1, TraceWeightingFactor: 0, GeophoneGroupNumberRoll1: 0, GeophoneGroupNumberFirstTraceOrigField: 0, GeophoneGroupNumberLastTraceOrigField: 0, GapSize: 0, OverTravel: 0, CDP_X: -2207533, CDP_Y: 1300018, INLINE_3D: 1976, CROSSLINE_3D: 2723, ShotPoint: 0, ShotPointScalar: 0, TraceValueMeasurementUnit: 0, TransductionConstantMantissa: 0, TransductionConstantPower: 0, TransductionUnit: 0, TraceIdentifier: 0, ScalarTraceHeader: 0, SourceType: 0, SourceEnergyDirectionMantissa: 0, SourceEnergyDirectionExponent: 0, SourceMeasurementMantissa: 0, SourceMeasurementExponent: 0, SourceMeasurementUnit: 0}"
      ]
     },
     "execution_count": 28,
     "metadata": {},
     "output_type": "execute_result"
    }
   ],
   "source": [
    "f = segyio.open(\"../data/SEISMIC/MYS20104DM2/MYS20104DM2_FILT_SCAL_DEPTH_MIGR_in_time_base.sgy\")\n",
    "f.header[23]"
   ]
  },
  {
   "cell_type": "code",
   "execution_count": 13,
   "metadata": {},
   "outputs": [
    {
     "data": {
      "text/plain": [
       "{TRACE_SEQUENCE_LINE: 21, TRACE_SEQUENCE_FILE: 24242, FieldRecord: 24242, TraceNumber: 21, EnergySourcePoint: 0, CDP: 17846, CDP_TRACE: 1, TraceIdentificationCode: 1, NSummedTraces: 0, NStackedTraces: 0, DataUse: 1, offset: 0, ReceiverGroupElevation: 0, SourceSurfaceElevation: 0, SourceDepth: 0, ReceiverDatumElevation: 0, SourceDatumElevation: 0, SourceWaterDepth: 0, GroupWaterDepth: 0, ElevationScalar: 1, SourceGroupScalar: -100, SourceX: -2643000, SourceY: -547500, GroupX: 0, GroupY: 0, CoordinateUnits: 1, WeatheringVelocity: 0, SubWeatheringVelocity: 0, SourceUpholeTime: 0, GroupUpholeTime: 0, SourceStaticCorrection: 0, GroupStaticCorrection: 0, TotalStaticApplied: 0, LagTimeA: 0, LagTimeB: 0, DelayRecordingTime: 0, MuteTimeStart: 0, MuteTimeEND: 0, TRACE_SAMPLE_COUNT: 3841, TRACE_SAMPLE_INTERVAL: 2000, GainType: 0, InstrumentGainConstant: 0, InstrumentInitialGain: 0, Correlated: 1, SweepFrequencyStart: 0, SweepFrequencyEnd: 0, SweepLength: 0, SweepType: 1, SweepTraceTaperLengthStart: 0, SweepTraceTaperLengthEnd: 0, TaperType: 1, AliasFilterFrequency: 0, AliasFilterSlope: 0, NotchFilterFrequency: 0, NotchFilterSlope: 0, LowCutFrequency: 0, HighCutFrequency: 0, LowCutSlope: 0, HighCutSlope: 0, YearDataRecorded: 0, DayOfYear: 0, HourOfDay: 0, MinuteOfHour: 0, SecondOfMinute: 0, TimeBaseCode: 1, TraceWeightingFactor: 0, GeophoneGroupNumberRoll1: 0, GeophoneGroupNumberFirstTraceOrigField: 0, GeophoneGroupNumberLastTraceOrigField: 0, GapSize: 0, OverTravel: 0, CDP_X: -2643000, CDP_Y: -547500, INLINE_3D: 24242, CROSSLINE_3D: 17846, ShotPoint: 0, ShotPointScalar: 0, TraceValueMeasurementUnit: 0, TransductionConstantMantissa: 0, TransductionConstantPower: 0, TransductionUnit: 0, TraceIdentifier: 0, ScalarTraceHeader: 0, SourceType: 0, SourceEnergyDirectionMantissa: 0, SourceEnergyDirectionExponent: 0, SourceMeasurementMantissa: 0, SourceMeasurementExponent: 0, SourceMeasurementUnit: 0}"
      ]
     },
     "execution_count": 13,
     "metadata": {},
     "output_type": "execute_result"
    }
   ],
   "source": [
    "f = segyio.open(\"../data/SEISMIC/MEGAMERGE1/MYS1998P20153DM01MEGAMERGEPHASE1_FILT_SCAL_MIGR_w_gather_flat.sgy\")\n",
    "f.header[20]"
   ]
  },
  {
   "cell_type": "code",
   "execution_count": 14,
   "metadata": {},
   "outputs": [],
   "source": [
    "import lasio\n",
    "import glob\n",
    "import numpy as np\n",
    "import pandas as pd\n",
    "import seaborn as sns\n",
    "import matplotlib.pyplot as plt\n",
    "import warnings\n",
    "from math import ceil\n",
    "warnings.simplefilter('ignore')\n",
    "sns.set()\n",
    "import welly as well\n"
   ]
  },
  {
   "cell_type": "code",
   "execution_count": 23,
   "metadata": {},
   "outputs": [],
   "source": [
    "well_6_composite_CSV = pd.read_excel('../data/GENERAL_WELL_DATA/Deviation.xlsx')"
   ]
  },
  {
   "cell_type": "code",
   "execution_count": 26,
   "metadata": {},
   "outputs": [
    {
     "data": {
      "text/html": [
       "<div>\n",
       "<style scoped>\n",
       "    .dataframe tbody tr th:only-of-type {\n",
       "        vertical-align: middle;\n",
       "    }\n",
       "\n",
       "    .dataframe tbody tr th {\n",
       "        vertical-align: top;\n",
       "    }\n",
       "\n",
       "    .dataframe thead th {\n",
       "        text-align: right;\n",
       "    }\n",
       "</style>\n",
       "<table border=\"1\" class=\"dataframe\">\n",
       "  <thead>\n",
       "    <tr style=\"text-align: right;\">\n",
       "      <th></th>\n",
       "      <th>Wellbore Name</th>\n",
       "      <th>Wellbore Spud Date</th>\n",
       "      <th>Spud Year</th>\n",
       "      <th>Water Depth</th>\n",
       "      <th>Water Depth Unit</th>\n",
       "      <th>Total Depth</th>\n",
       "      <th>Total Depth Unit</th>\n",
       "      <th>Reference Point</th>\n",
       "      <th>Elevation</th>\n",
       "      <th>Elevation Unit</th>\n",
       "      <th>Reference Datum</th>\n",
       "    </tr>\n",
       "  </thead>\n",
       "  <tbody>\n",
       "    <tr>\n",
       "      <th>0</th>\n",
       "      <td>WELL-1</td>\n",
       "      <td>1981-05-02</td>\n",
       "      <td>1981.0</td>\n",
       "      <td>236.0</td>\n",
       "      <td>feet</td>\n",
       "      <td>4865.0</td>\n",
       "      <td>feet</td>\n",
       "      <td>KB</td>\n",
       "      <td>38.00</td>\n",
       "      <td>feet</td>\n",
       "      <td>MSL</td>\n",
       "    </tr>\n",
       "    <tr>\n",
       "      <th>1</th>\n",
       "      <td>WELL-2</td>\n",
       "      <td>1981-06-09</td>\n",
       "      <td>1981.0</td>\n",
       "      <td>241.0</td>\n",
       "      <td>feet</td>\n",
       "      <td>4896.0</td>\n",
       "      <td>feet</td>\n",
       "      <td>KB</td>\n",
       "      <td>38.00</td>\n",
       "      <td>feet</td>\n",
       "      <td>MSL</td>\n",
       "    </tr>\n",
       "    <tr>\n",
       "      <th>2</th>\n",
       "      <td>WELL-3</td>\n",
       "      <td>1981-09-14</td>\n",
       "      <td>1981.0</td>\n",
       "      <td>257.0</td>\n",
       "      <td>feet</td>\n",
       "      <td>5010.0</td>\n",
       "      <td>feet</td>\n",
       "      <td>KB</td>\n",
       "      <td>38.00</td>\n",
       "      <td>feet</td>\n",
       "      <td>MSL</td>\n",
       "    </tr>\n",
       "    <tr>\n",
       "      <th>3</th>\n",
       "      <td>WELL-4</td>\n",
       "      <td>1981-11-11</td>\n",
       "      <td>1981.0</td>\n",
       "      <td>210.0</td>\n",
       "      <td>feet</td>\n",
       "      <td>4800.0</td>\n",
       "      <td>feet</td>\n",
       "      <td>KB</td>\n",
       "      <td>38.00</td>\n",
       "      <td>feet</td>\n",
       "      <td>MSL</td>\n",
       "    </tr>\n",
       "    <tr>\n",
       "      <th>4</th>\n",
       "      <td>WELL-5</td>\n",
       "      <td>1986-01-12</td>\n",
       "      <td>1986.0</td>\n",
       "      <td>75.0</td>\n",
       "      <td>meters</td>\n",
       "      <td>1418.0</td>\n",
       "      <td>meters</td>\n",
       "      <td>KB</td>\n",
       "      <td>10.60</td>\n",
       "      <td>meters</td>\n",
       "      <td>MSL</td>\n",
       "    </tr>\n",
       "    <tr>\n",
       "      <th>...</th>\n",
       "      <td>...</td>\n",
       "      <td>...</td>\n",
       "      <td>...</td>\n",
       "      <td>...</td>\n",
       "      <td>...</td>\n",
       "      <td>...</td>\n",
       "      <td>...</td>\n",
       "      <td>...</td>\n",
       "      <td>...</td>\n",
       "      <td>...</td>\n",
       "      <td>...</td>\n",
       "    </tr>\n",
       "    <tr>\n",
       "      <th>196</th>\n",
       "      <td>WELL-D6</td>\n",
       "      <td>1995-11-04</td>\n",
       "      <td>1995.0</td>\n",
       "      <td>74.2</td>\n",
       "      <td>meters</td>\n",
       "      <td>2688.0</td>\n",
       "      <td>meters</td>\n",
       "      <td>DF</td>\n",
       "      <td>31.15</td>\n",
       "      <td>meters</td>\n",
       "      <td>MSL</td>\n",
       "    </tr>\n",
       "    <tr>\n",
       "      <th>197</th>\n",
       "      <td>WELL-D7</td>\n",
       "      <td>1995-11-21</td>\n",
       "      <td>1995.0</td>\n",
       "      <td>74.2</td>\n",
       "      <td>meters</td>\n",
       "      <td>2020.0</td>\n",
       "      <td>meters</td>\n",
       "      <td>DF</td>\n",
       "      <td>31.15</td>\n",
       "      <td>meters</td>\n",
       "      <td>MSL</td>\n",
       "    </tr>\n",
       "    <tr>\n",
       "      <th>198</th>\n",
       "      <td>WELL-D7S1</td>\n",
       "      <td>1995-11-21</td>\n",
       "      <td>1995.0</td>\n",
       "      <td>74.2</td>\n",
       "      <td>meters</td>\n",
       "      <td>1844.0</td>\n",
       "      <td>meters</td>\n",
       "      <td>DF</td>\n",
       "      <td>31.15</td>\n",
       "      <td>meters</td>\n",
       "      <td>MSL</td>\n",
       "    </tr>\n",
       "    <tr>\n",
       "      <th>199</th>\n",
       "      <td>WELL-D8</td>\n",
       "      <td>1995-12-07</td>\n",
       "      <td>1995.0</td>\n",
       "      <td>74.2</td>\n",
       "      <td>meters</td>\n",
       "      <td>2384.0</td>\n",
       "      <td>meters</td>\n",
       "      <td>DF</td>\n",
       "      <td>31.15</td>\n",
       "      <td>meters</td>\n",
       "      <td>MSL</td>\n",
       "    </tr>\n",
       "    <tr>\n",
       "      <th>200</th>\n",
       "      <td>WELL-D9</td>\n",
       "      <td>1995-12-24</td>\n",
       "      <td>1995.0</td>\n",
       "      <td>74.2</td>\n",
       "      <td>meters</td>\n",
       "      <td>2086.0</td>\n",
       "      <td>meters</td>\n",
       "      <td>DF</td>\n",
       "      <td>31.15</td>\n",
       "      <td>meters</td>\n",
       "      <td>MSL</td>\n",
       "    </tr>\n",
       "  </tbody>\n",
       "</table>\n",
       "<p>201 rows × 11 columns</p>\n",
       "</div>"
      ],
      "text/plain": [
       "    Wellbore Name Wellbore Spud Date  Spud Year  Water Depth Water Depth Unit  \\\n",
       "0          WELL-1         1981-05-02     1981.0        236.0             feet   \n",
       "1          WELL-2         1981-06-09     1981.0        241.0             feet   \n",
       "2          WELL-3         1981-09-14     1981.0        257.0             feet   \n",
       "3          WELL-4         1981-11-11     1981.0        210.0             feet   \n",
       "4          WELL-5         1986-01-12     1986.0         75.0           meters   \n",
       "..            ...                ...        ...          ...              ...   \n",
       "196       WELL-D6         1995-11-04     1995.0         74.2           meters   \n",
       "197       WELL-D7         1995-11-21     1995.0         74.2           meters   \n",
       "198     WELL-D7S1         1995-11-21     1995.0         74.2           meters   \n",
       "199       WELL-D8         1995-12-07     1995.0         74.2           meters   \n",
       "200       WELL-D9         1995-12-24     1995.0         74.2           meters   \n",
       "\n",
       "     Total Depth Total Depth Unit Reference Point  Elevation Elevation Unit  \\\n",
       "0         4865.0             feet              KB      38.00           feet   \n",
       "1         4896.0             feet              KB      38.00           feet   \n",
       "2         5010.0             feet              KB      38.00           feet   \n",
       "3         4800.0             feet              KB      38.00           feet   \n",
       "4         1418.0           meters              KB      10.60         meters   \n",
       "..           ...              ...             ...        ...            ...   \n",
       "196       2688.0           meters              DF      31.15         meters   \n",
       "197       2020.0           meters              DF      31.15         meters   \n",
       "198       1844.0           meters              DF      31.15         meters   \n",
       "199       2384.0           meters              DF      31.15         meters   \n",
       "200       2086.0           meters              DF      31.15         meters   \n",
       "\n",
       "    Reference Datum  \n",
       "0               MSL  \n",
       "1               MSL  \n",
       "2               MSL  \n",
       "3               MSL  \n",
       "4               MSL  \n",
       "..              ...  \n",
       "196             MSL  \n",
       "197             MSL  \n",
       "198             MSL  \n",
       "199             MSL  \n",
       "200             MSL  \n",
       "\n",
       "[201 rows x 11 columns]"
      ]
     },
     "execution_count": 26,
     "metadata": {},
     "output_type": "execute_result"
    }
   ],
   "source": [
    "well_6_composite_CSV"
   ]
  },
  {
   "cell_type": "code",
   "execution_count": 25,
   "metadata": {},
   "outputs": [],
   "source": [
    "well_6_composite_CSV = pd.read_excel('../data/GENERAL_WELL_DATA/ST_Well Header Info & Data Availability Listing.xlsx')"
   ]
  }
 ],
 "metadata": {
  "kernelspec": {
   "display_name": "nazmi-py37",
   "language": "python",
   "name": "nazmi-py37"
  },
  "language_info": {
   "codemirror_mode": {
    "name": "ipython",
    "version": 3
   },
   "file_extension": ".py",
   "mimetype": "text/x-python",
   "name": "python",
   "nbconvert_exporter": "python",
   "pygments_lexer": "ipython3",
   "version": "3.7.4"
  }
 },
 "nbformat": 4,
 "nbformat_minor": 2
}
