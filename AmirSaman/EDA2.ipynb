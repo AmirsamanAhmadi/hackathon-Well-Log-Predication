{
 "cells": [
  {
   "cell_type": "code",
   "execution_count": 1,
   "metadata": {},
   "outputs": [],
   "source": [
    "#Data Pre-processing\n",
    "#Data Cleaning-MV Detection\n",
    "import os\n",
    "import pandas as pd\n",
    "import numpy as np\n",
    "import matplotlib.pyplot as plt\n",
    "%matplotlib inline  \n"
   ]
  },
  {
   "cell_type": "code",
   "execution_count": 2,
   "metadata": {},
   "outputs": [
    {
     "name": "stdout",
     "output_type": "stream",
     "text": [
      "<class 'pandas.core.frame.DataFrame'>\n",
      "RangeIndex: 7401 entries, 0 to 7400\n",
      "Data columns (total 9 columns):\n",
      "DEPTH     7401 non-null object\n",
      "CALI      7401 non-null object\n",
      "DENB      7401 non-null object\n",
      "DRHO      7401 non-null object\n",
      "DTCOMP    7401 non-null object\n",
      "GR        7401 non-null object\n",
      "NEUT      7401 non-null object\n",
      "RDEEP     7401 non-null object\n",
      "RMICRO    7401 non-null float64\n",
      "dtypes: float64(1), object(8)\n",
      "memory usage: 520.5+ KB\n"
     ]
    }
   ],
   "source": [
    "#read the dataset\n",
    "# os.chdir(r\"/Users/nooradilahbtrashid/Downloads/Clean files/Finally_Clean\") \n",
    "df=pd.read_csv(\"../AmirSaman/WellLogsCSV/WELL-1_COMPOSITE.csv\")\n",
    "df.info()\n",
    "\n"
   ]
  },
  {
   "cell_type": "code",
   "execution_count": null,
   "metadata": {},
   "outputs": [],
   "source": [
    "\n",
    "#Statistics summary\n",
    "summary=df.describe()\n",
    "summary.to_csv('B8.csv')\n",
    "\n",
    "#Missing value \n",
    "newdata=df.replace(['-9999'], [np.nan])\n",
    "newdata.info()\n",
    "newdata.to_csv('MV.csv')\n",
    "\n",
    "#Finding Missing value\n",
    "df.isnull().sum()\n",
    "MVP=df.isnull().sum()/len(df)*100\n",
    "\n",
    "#Selecting column\n",
    "df1=df[['DTC']]\n",
    "\n",
    "#Plotting\n",
    "import seaborn as sns \n",
    "sns.regplot(x=df[\"DEPT\"], y=df[\"DTC\"])\n",
    "sns.despine()\n",
    "\n",
    "#Correlation to DTC\n",
    "corr=df.corr()\n",
    "corr.to_csv('corrB8.csv')\n",
    "\n",
    "#Choosing corr>0.5\n",
    "df.loc[:, df.corr()['DTC'] > -0.5]\n",
    "\n",
    "#Heatmap corr without value\n",
    "top_corr_features = corr.index\n",
    "plt.figure()\n",
    "map=sns.heatmap(df[top_corr_features].corr())ue\n",
    "\n",
    "#Heatmap corr with val\n",
    "sns.heatmap(corr, annot=True, cmap=\"YlGnBu\", annot_kws={\"size\": 7})\n",
    "sns.plt.show()\n",
    "sns.heatmap(corr)"
   ]
  }
 ],
 "metadata": {
  "kernelspec": {
   "display_name": "nazmi-py37",
   "language": "python",
   "name": "nazmi-py37"
  },
  "language_info": {
   "codemirror_mode": {
    "name": "ipython",
    "version": 3
   },
   "file_extension": ".py",
   "mimetype": "text/x-python",
   "name": "python",
   "nbconvert_exporter": "python",
   "pygments_lexer": "ipython3",
   "version": "3.7.4"
  }
 },
 "nbformat": 4,
 "nbformat_minor": 2
}
