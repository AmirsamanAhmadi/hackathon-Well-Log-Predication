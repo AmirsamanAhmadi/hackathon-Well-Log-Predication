{
 "cells": [
  {
   "cell_type": "code",
   "execution_count": 1,
   "metadata": {},
   "outputs": [
    {
     "name": "stderr",
     "output_type": "stream",
     "text": [
      "/anaconda/envs/py35/lib/python3.5/importlib/_bootstrap.py:222: RuntimeWarning: numpy.dtype size changed, may indicate binary incompatibility. Expected 96, got 88\n",
      "  return f(*args, **kwds)\n",
      "/anaconda/envs/py35/lib/python3.5/importlib/_bootstrap.py:222: RuntimeWarning: numpy.dtype size changed, may indicate binary incompatibility. Expected 96, got 88\n",
      "  return f(*args, **kwds)\n",
      "/anaconda/envs/py35/lib/python3.5/importlib/_bootstrap.py:222: RuntimeWarning: numpy.dtype size changed, may indicate binary incompatibility. Expected 96, got 88\n",
      "  return f(*args, **kwds)\n"
     ]
    }
   ],
   "source": [
    "import pandas as pd\n",
    "import numpy as np\n",
    "import seaborn as se\n",
    "from sklearn.svm import SVR\n",
    "import matplotlib.pyplot as plt\n",
    "from scipy import stats\n",
    "from sklearn.linear_model import BayesianRidge, LinearRegression\n",
    "from sklearn.model_selection import KFold, cross_val_score\n",
    "\n",
    "%matplotlib inline"
   ]
  },
  {
   "cell_type": "code",
   "execution_count": 10,
   "metadata": {},
   "outputs": [
    {
     "data": {
      "text/html": [
       "<div>\n",
       "<style scoped>\n",
       "    .dataframe tbody tr th:only-of-type {\n",
       "        vertical-align: middle;\n",
       "    }\n",
       "\n",
       "    .dataframe tbody tr th {\n",
       "        vertical-align: top;\n",
       "    }\n",
       "\n",
       "    .dataframe thead th {\n",
       "        text-align: right;\n",
       "    }\n",
       "</style>\n",
       "<table border=\"1\" class=\"dataframe\">\n",
       "  <thead>\n",
       "    <tr style=\"text-align: right;\">\n",
       "      <th></th>\n",
       "      <th>Unnamed: 0</th>\n",
       "      <th>DEPTH</th>\n",
       "      <th>CALI</th>\n",
       "      <th>DENB</th>\n",
       "      <th>DRHO</th>\n",
       "      <th>DTCOMP</th>\n",
       "      <th>GR</th>\n",
       "      <th>NEUT</th>\n",
       "      <th>RDEEP</th>\n",
       "      <th>RMICRO</th>\n",
       "    </tr>\n",
       "  </thead>\n",
       "  <tbody>\n",
       "    <tr>\n",
       "      <th>0</th>\n",
       "      <td>0</td>\n",
       "      <td>314.7060</td>\n",
       "      <td>-999.2500</td>\n",
       "      <td>-999.25</td>\n",
       "      <td>-999.25</td>\n",
       "      <td>-999.25</td>\n",
       "      <td>-999.25</td>\n",
       "      <td>-999.25</td>\n",
       "      <td>2000.00</td>\n",
       "      <td>-999.25</td>\n",
       "    </tr>\n",
       "    <tr>\n",
       "      <th>1</th>\n",
       "      <td>1</td>\n",
       "      <td>316.3824</td>\n",
       "      <td>19.0412</td>\n",
       "      <td>-999.25</td>\n",
       "      <td>-999.25</td>\n",
       "      <td>-999.25</td>\n",
       "      <td>-999.25</td>\n",
       "      <td>-999.25</td>\n",
       "      <td>-999.25</td>\n",
       "      <td>-999.25</td>\n",
       "    </tr>\n",
       "    <tr>\n",
       "      <th>2</th>\n",
       "      <td>2</td>\n",
       "      <td>316.8396</td>\n",
       "      <td>19.0265</td>\n",
       "      <td>-999.25</td>\n",
       "      <td>-999.25</td>\n",
       "      <td>-999.25</td>\n",
       "      <td>-999.25</td>\n",
       "      <td>-999.25</td>\n",
       "      <td>-999.25</td>\n",
       "      <td>-999.25</td>\n",
       "    </tr>\n",
       "    <tr>\n",
       "      <th>3</th>\n",
       "      <td>3</td>\n",
       "      <td>317.1444</td>\n",
       "      <td>18.9972</td>\n",
       "      <td>-999.25</td>\n",
       "      <td>-999.25</td>\n",
       "      <td>-999.25</td>\n",
       "      <td>-999.25</td>\n",
       "      <td>-999.25</td>\n",
       "      <td>-999.25</td>\n",
       "      <td>-999.25</td>\n",
       "    </tr>\n",
       "    <tr>\n",
       "      <th>4</th>\n",
       "      <td>4</td>\n",
       "      <td>317.4492</td>\n",
       "      <td>18.9826</td>\n",
       "      <td>-999.25</td>\n",
       "      <td>-999.25</td>\n",
       "      <td>-999.25</td>\n",
       "      <td>-999.25</td>\n",
       "      <td>-999.25</td>\n",
       "      <td>-999.25</td>\n",
       "      <td>-999.25</td>\n",
       "    </tr>\n",
       "  </tbody>\n",
       "</table>\n",
       "</div>"
      ],
      "text/plain": [
       "   Unnamed: 0     DEPTH      CALI    DENB    DRHO  DTCOMP      GR    NEUT  \\\n",
       "0           0  314.7060 -999.2500 -999.25 -999.25 -999.25 -999.25 -999.25   \n",
       "1           1  316.3824   19.0412 -999.25 -999.25 -999.25 -999.25 -999.25   \n",
       "2           2  316.8396   19.0265 -999.25 -999.25 -999.25 -999.25 -999.25   \n",
       "3           3  317.1444   18.9972 -999.25 -999.25 -999.25 -999.25 -999.25   \n",
       "4           4  317.4492   18.9826 -999.25 -999.25 -999.25 -999.25 -999.25   \n",
       "\n",
       "     RDEEP  RMICRO  \n",
       "0  2000.00 -999.25  \n",
       "1  -999.25 -999.25  \n",
       "2  -999.25 -999.25  \n",
       "3  -999.25 -999.25  \n",
       "4  -999.25 -999.25  "
      ]
     },
     "execution_count": 10,
     "metadata": {},
     "output_type": "execute_result"
    }
   ],
   "source": [
    "data = pd.read_csv('../../AmirSaman/Final/clean/WELL1COMPOSITE.csv')\n",
    "data.head()"
   ]
  },
  {
   "cell_type": "code",
   "execution_count": 11,
   "metadata": {},
   "outputs": [
    {
     "name": "stdout",
     "output_type": "stream",
     "text": [
      "<class 'pandas.core.frame.DataFrame'>\n",
      "RangeIndex: 7401 entries, 0 to 7400\n",
      "Data columns (total 10 columns):\n",
      "Unnamed: 0    7401 non-null int64\n",
      "DEPTH         7401 non-null float64\n",
      "CALI          7401 non-null float64\n",
      "DENB          7401 non-null float64\n",
      "DRHO          7401 non-null float64\n",
      "DTCOMP        7401 non-null float64\n",
      "GR            7401 non-null float64\n",
      "NEUT          7401 non-null float64\n",
      "RDEEP         7401 non-null float64\n",
      "RMICRO        7401 non-null float64\n",
      "dtypes: float64(9), int64(1)\n",
      "memory usage: 578.3 KB\n"
     ]
    }
   ],
   "source": [
    "data.info()"
   ]
  },
  {
   "cell_type": "code",
   "execution_count": 12,
   "metadata": {
    "scrolled": true
   },
   "outputs": [
    {
     "data": {
      "text/html": [
       "<div>\n",
       "<style scoped>\n",
       "    .dataframe tbody tr th:only-of-type {\n",
       "        vertical-align: middle;\n",
       "    }\n",
       "\n",
       "    .dataframe tbody tr th {\n",
       "        vertical-align: top;\n",
       "    }\n",
       "\n",
       "    .dataframe thead th {\n",
       "        text-align: right;\n",
       "    }\n",
       "</style>\n",
       "<table border=\"1\" class=\"dataframe\">\n",
       "  <thead>\n",
       "    <tr style=\"text-align: right;\">\n",
       "      <th></th>\n",
       "      <th>Unnamed: 0</th>\n",
       "      <th>DEPTH</th>\n",
       "      <th>CALI</th>\n",
       "      <th>DENB</th>\n",
       "      <th>DRHO</th>\n",
       "      <th>DTCOMP</th>\n",
       "      <th>GR</th>\n",
       "      <th>NEUT</th>\n",
       "      <th>RDEEP</th>\n",
       "      <th>RMICRO</th>\n",
       "    </tr>\n",
       "  </thead>\n",
       "  <tbody>\n",
       "    <tr>\n",
       "      <th>1</th>\n",
       "      <td>1</td>\n",
       "      <td>316.3824</td>\n",
       "      <td>19.0412</td>\n",
       "      <td>-999.25</td>\n",
       "      <td>-999.25</td>\n",
       "      <td>-999.25</td>\n",
       "      <td>-999.25</td>\n",
       "      <td>-999.25</td>\n",
       "      <td>-999.25</td>\n",
       "      <td>-999.25</td>\n",
       "    </tr>\n",
       "    <tr>\n",
       "      <th>2</th>\n",
       "      <td>2</td>\n",
       "      <td>316.8396</td>\n",
       "      <td>19.0265</td>\n",
       "      <td>-999.25</td>\n",
       "      <td>-999.25</td>\n",
       "      <td>-999.25</td>\n",
       "      <td>-999.25</td>\n",
       "      <td>-999.25</td>\n",
       "      <td>-999.25</td>\n",
       "      <td>-999.25</td>\n",
       "    </tr>\n",
       "    <tr>\n",
       "      <th>3</th>\n",
       "      <td>3</td>\n",
       "      <td>317.1444</td>\n",
       "      <td>18.9972</td>\n",
       "      <td>-999.25</td>\n",
       "      <td>-999.25</td>\n",
       "      <td>-999.25</td>\n",
       "      <td>-999.25</td>\n",
       "      <td>-999.25</td>\n",
       "      <td>-999.25</td>\n",
       "      <td>-999.25</td>\n",
       "    </tr>\n",
       "    <tr>\n",
       "      <th>4</th>\n",
       "      <td>4</td>\n",
       "      <td>317.4492</td>\n",
       "      <td>18.9826</td>\n",
       "      <td>-999.25</td>\n",
       "      <td>-999.25</td>\n",
       "      <td>-999.25</td>\n",
       "      <td>-999.25</td>\n",
       "      <td>-999.25</td>\n",
       "      <td>-999.25</td>\n",
       "      <td>-999.25</td>\n",
       "    </tr>\n",
       "    <tr>\n",
       "      <th>5</th>\n",
       "      <td>5</td>\n",
       "      <td>318.0588</td>\n",
       "      <td>18.9240</td>\n",
       "      <td>-999.25</td>\n",
       "      <td>-999.25</td>\n",
       "      <td>-999.25</td>\n",
       "      <td>-999.25</td>\n",
       "      <td>-999.25</td>\n",
       "      <td>-999.25</td>\n",
       "      <td>-999.25</td>\n",
       "    </tr>\n",
       "  </tbody>\n",
       "</table>\n",
       "</div>"
      ],
      "text/plain": [
       "   Unnamed: 0     DEPTH     CALI    DENB    DRHO  DTCOMP      GR    NEUT  \\\n",
       "1           1  316.3824  19.0412 -999.25 -999.25 -999.25 -999.25 -999.25   \n",
       "2           2  316.8396  19.0265 -999.25 -999.25 -999.25 -999.25 -999.25   \n",
       "3           3  317.1444  18.9972 -999.25 -999.25 -999.25 -999.25 -999.25   \n",
       "4           4  317.4492  18.9826 -999.25 -999.25 -999.25 -999.25 -999.25   \n",
       "5           5  318.0588  18.9240 -999.25 -999.25 -999.25 -999.25 -999.25   \n",
       "\n",
       "    RDEEP  RMICRO  \n",
       "1 -999.25 -999.25  \n",
       "2 -999.25 -999.25  \n",
       "3 -999.25 -999.25  \n",
       "4 -999.25 -999.25  \n",
       "5 -999.25 -999.25  "
      ]
     },
     "execution_count": 12,
     "metadata": {},
     "output_type": "execute_result"
    }
   ],
   "source": [
    "data = data[1:]\n",
    "\n",
    "data.head()"
   ]
  },
  {
   "cell_type": "code",
   "execution_count": 13,
   "metadata": {},
   "outputs": [],
   "source": [
    "x = data[['DEPTH', 'CALI', 'DENB', 'DRHO','DTCOMP', 'GR','RDEEP', 'RMICRO']]\n",
    "y = data['NEUT']\n"
   ]
  },
  {
   "cell_type": "code",
   "execution_count": 14,
   "metadata": {},
   "outputs": [
    {
     "name": "stdout",
     "output_type": "stream",
     "text": [
      "Train: [1480 1481 1482 ... 7397 7398 7399] | test: [   0    1    2 ... 1477 1478 1479]\n",
      "Train: [   0    1    2 ... 7397 7398 7399] | test: [1480 1481 1482 ... 2957 2958 2959]\n",
      "Train: [   0    1    2 ... 7397 7398 7399] | test: [2960 2961 2962 ... 4437 4438 4439]\n",
      "Train: [   0    1    2 ... 7397 7398 7399] | test: [4440 4441 4442 ... 5917 5918 5919]\n",
      "Train: [   0    1    2 ... 5917 5918 5919] | test: [5920 5921 5922 ... 7397 7398 7399]\n"
     ]
    }
   ],
   "source": [
    "# Creating the folds - not really used in our example\n",
    "k_fold = KFold(n_splits=5)\n",
    "for train_indices, test_indices in k_fold.split(x):\n",
    "     print('Train: %s | test: %s' % (train_indices, test_indices))"
   ]
  },
  {
   "cell_type": "markdown",
   "metadata": {},
   "source": [
    "# Benchmarking our regressors"
   ]
  },
  {
   "cell_type": "code",
   "execution_count": null,
   "metadata": {},
   "outputs": [],
   "source": [
    "names = [\"Support Victor Regressor\", \"Bayesian Ridge Regressor\", \"Linear Regressor\"]\n",
    "\n",
    "classifiers = [\n",
    "    SVR(kernel='linear', C=1e3),\n",
    "    BayesianRidge(compute_score=True),\n",
    "    LinearRegression()]\n",
    "\n",
    "k_fold = 2\n",
    "\n",
    "# Benchmarking\n",
    "for model, name in zip(classifiers, names):\n",
    "    print(name, cross_val_score(model, x, y, cv=k_fold, n_jobs=7))\n",
    "\n",
    "\n"
   ]
  }
 ],
 "metadata": {
  "kernelspec": {
   "display_name": "Python 3.5",
   "language": "python",
   "name": "python3"
  },
  "language_info": {
   "codemirror_mode": {
    "name": "ipython",
    "version": 3
   },
   "file_extension": ".py",
   "mimetype": "text/x-python",
   "name": "python",
   "nbconvert_exporter": "python",
   "pygments_lexer": "ipython3",
   "version": "3.5.5"
  }
 },
 "nbformat": 4,
 "nbformat_minor": 2
}
