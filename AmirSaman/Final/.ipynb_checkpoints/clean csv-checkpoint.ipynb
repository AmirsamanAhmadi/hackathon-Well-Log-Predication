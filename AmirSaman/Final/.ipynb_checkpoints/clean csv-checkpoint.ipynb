{
 "cells": [
  {
   "cell_type": "code",
   "execution_count": 1,
   "metadata": {},
   "outputs": [],
   "source": [
    "import lasio, os\n",
    "import numpy as np\n",
    "import pandas as pd"
   ]
  },
  {
   "cell_type": "code",
   "execution_count": 2,
   "metadata": {},
   "outputs": [],
   "source": [
    "def myfun(array):\n",
    "    val = [];\n",
    "    d = np.array(array);\n",
    "    for x in array:\n",
    "        d = float(str(x).replace(\",\",\"\"))\n",
    "        val.append(float(d))\n",
    "    return val;"
   ]
  },
  {
   "cell_type": "code",
   "execution_count": 3,
   "metadata": {},
   "outputs": [],
   "source": [
    "def convertToCSV(file,name):\n",
    "    name = name+\".csv\"\n",
    "    las = lasio.read(file)\n",
    "    df = las.df()\n",
    "    df.drop_duplicates(inplace=True)\n",
    "    df.to_csv(name)\n",
    "    "
   ]
  },
  {
   "cell_type": "code",
   "execution_count": 4,
   "metadata": {},
   "outputs": [
    {
     "name": "stderr",
     "output_type": "stream",
     "text": [
      "/data/anaconda/envs/nazmi-py37/lib/python3.7/site-packages/lasio/las.py:255: FutureWarning: elementwise comparison failed; returning scalar instead, but in the future will perform elementwise comparison\n",
      "  arr[arr == null] = np.nan\n",
      "Header section Parameter regexp=~P was not found.\n"
     ]
    }
   ],
   "source": [
    "convertToCSV(\"../../data/PETROPHYSICS/WELL-1_COMPOSITE.LAS\",\"WELL-1_COMPOSITE\")\n",
    "convertToCSV(\"../../data/PETROPHYSICS/WELL-2_COMPOSITE.LAS\",\"WELL-2_COMPOSITE\")\n",
    "convertToCSV(\"../../data/PETROPHYSICS/WELL-3_COMPOSITE.LAS\",\"WELL-3_COMPOSITE\")\n",
    "convertToCSV(\"../../data/PETROPHYSICS/WELL-4_COMPOSITE.LAS\",\"WELL-4_COMPOSITE\")\n",
    "convertToCSV(\"../../data/PETROPHYSICS/WELL-5_COMPOSITE.LAS\",\"WELL-5_COMPOSITE\")\n",
    "convertToCSV(\"../../data/PETROPHYSICS/WELL-6_COMPOSITE.LAS\",\"WELL-6_COMPOSITE\")\n",
    "\n"
   ]
  },
  {
   "cell_type": "code",
   "execution_count": 5,
   "metadata": {},
   "outputs": [],
   "source": [
    "WELL1COMPOSITE = pd.read_csv('WELL-1_COMPOSITE.csv')\n",
    "WELL2COMPOSITE = pd.read_csv('WELL-2_COMPOSITE.csv')\n",
    "WELL3COMPOSITE = pd.read_csv('WELL-3_COMPOSITE.csv')\n",
    "WELL4COMPOSITE = pd.read_csv('WELL-4_COMPOSITE.csv')\n",
    "WELL5COMPOSITE = pd.read_csv('WELL-5_COMPOSITE.csv')\n",
    "WELL6COMPOSITE = pd.read_csv('WELL-6_COMPOSITE.csv')"
   ]
  },
  {
   "cell_type": "code",
   "execution_count": 6,
   "metadata": {},
   "outputs": [],
   "source": [
    "WELL1COMPOSITE[\"wellName\"] = \"WELL1COMPOSITE\"\n",
    "\n",
    "WELL1COMPOSITE[\"datasetName\"] = \"clean\"\n",
    "\n",
    "WELL1COMPOSITE[\"DEPTH\"] = myfun(WELL1COMPOSITE[\"DEPTH\"])\n",
    "WELL1COMPOSITE[\"CALI\"] = myfun(WELL1COMPOSITE[\"CALI\"])\n",
    "WELL1COMPOSITE[\"DENB\"] = myfun(WELL1COMPOSITE[\"DENB\"])\n",
    "WELL1COMPOSITE[\"DRHO\"] = myfun(WELL1COMPOSITE[\"DRHO\"])\n",
    "WELL1COMPOSITE[\"DTCOMP\"] = myfun(WELL1COMPOSITE[\"DTCOMP\"])\n",
    "WELL1COMPOSITE[\"GR\"] = myfun(WELL1COMPOSITE[\"GR\"])\n",
    "WELL1COMPOSITE[\"NEUT\"] = myfun(WELL1COMPOSITE[\"NEUT\"])\n",
    "WELL1COMPOSITE[\"RDEEP\"] = myfun(WELL1COMPOSITE[\"RDEEP\"])\n",
    "WELL1COMPOSITE[\"RMICRO\"] = myfun(WELL1COMPOSITE[\"RMICRO\"])\n",
    "\n",
    "WELL1COMPOSITE = WELL1COMPOSITE[[ 'wellName', 'datasetName', 'DEPTH', 'CALI', 'DENB', 'DRHO', 'DTCOMP', 'GR', 'NEUT','RDEEP', 'RMICRO']].copy()\n",
    "\n",
    "\n",
    "WELL1COMPOSITE.to_csv(\"WELL1COMPOSITE.csv\")"
   ]
  },
  {
   "cell_type": "code",
   "execution_count": 67,
   "metadata": {},
   "outputs": [],
   "source": [
    "WELL2COMPOSITE[\"wellName\"] = \"WELL2COMPOSITE\"\n",
    "WELL2COMPOSITE[\"datasetName\"] = \"clean\"\n",
    "\n",
    "WELL2COMPOSITE[\"DEPTH\"] = myfun(WELL2COMPOSITE[\"DEPTH\"])\n",
    "WELL2COMPOSITE[\"CALI\"] = myfun(WELL2COMPOSITE[\"CALI\"])\n",
    "WELL2COMPOSITE[\"DENB\"] = myfun(WELL2COMPOSITE[\"DENB\"])\n",
    "WELL2COMPOSITE[\"DRHO\"] = myfun(WELL2COMPOSITE[\"DRHO\"])\n",
    "WELL2COMPOSITE[\"DTCOMP\"] = myfun(WELL2COMPOSITE[\"DTCOMP\"])\n",
    "WELL2COMPOSITE[\"GR\"] = myfun(WELL2COMPOSITE[\"GR\"])\n",
    "WELL2COMPOSITE[\"NEUT\"] = myfun(WELL2COMPOSITE[\"NEUT\"])\n",
    "WELL2COMPOSITE[\"RDEEP\"] = myfun(WELL2COMPOSITE[\"RDEEP\"])\n",
    "WELL2COMPOSITE[\"RMICRO\"] = myfun(WELL2COMPOSITE[\"RMICRO\"])\n",
    "\n",
    "WELL2COMPOSITE = WELL2COMPOSITE[[ 'wellName', 'datasetName', 'DEPTH', 'CALI', 'DENB', 'DRHO', 'DTCOMP', 'GR', 'NEUT','RDEEP', 'RMICRO']].copy()\n",
    "\n",
    "WELL2COMPOSITE.to_csv(\"WELL2COMPOSITE.csv\")"
   ]
  },
  {
   "cell_type": "code",
   "execution_count": 68,
   "metadata": {},
   "outputs": [],
   "source": [
    "WELL3COMPOSITE[\"wellName\"] = \"WELL3COMPOSITE\"\n",
    "WELL3COMPOSITE[\"datasetName\"] = \"clean\"\n",
    "\n",
    "WELL3COMPOSITE[\"DEPTH\"] = myfun(WELL3COMPOSITE[\"DEPTH\"])\n",
    "WELL3COMPOSITE[\"CALI\"] = myfun(WELL3COMPOSITE[\"CALI\"])\n",
    "WELL3COMPOSITE[\"DENB\"] = myfun(WELL3COMPOSITE[\"DENB\"])\n",
    "WELL3COMPOSITE[\"DRHO\"] = myfun(WELL3COMPOSITE[\"DRHO\"])\n",
    "WELL3COMPOSITE[\"DTCOMP\"] = myfun(WELL3COMPOSITE[\"DTCOMP\"])\n",
    "WELL3COMPOSITE[\"GR\"] = myfun(WELL3COMPOSITE[\"GR\"])\n",
    "WELL3COMPOSITE[\"NEUT\"] = myfun(WELL3COMPOSITE[\"NEUT\"])\n",
    "WELL3COMPOSITE[\"RDEEP\"] = myfun(WELL3COMPOSITE[\"RDEEP\"])\n",
    "WELL3COMPOSITE[\"RMICRO\"] = myfun(WELL3COMPOSITE[\"RMICRO\"])\n",
    "\n",
    "\n",
    "WELL3COMPOSITE = WELL3COMPOSITE[[ 'wellName', 'datasetName', 'DEPTH', 'CALI', 'DENB', 'DRHO', 'DTCOMP', 'GR', 'NEUT','RDEEP', 'RMICRO']].copy()\n",
    "\n",
    "WELL3COMPOSITE.to_csv(\"WELL3COMPOSITE.csv\")"
   ]
  },
  {
   "cell_type": "code",
   "execution_count": 69,
   "metadata": {},
   "outputs": [],
   "source": [
    "WELL4COMPOSITE[\"wellName\"] = \"WELL4COMPOSITE\"\n",
    "WELL4COMPOSITE[\"datasetName\"] = \"clean\"\n",
    "\n",
    "WELL4COMPOSITE[\"DEPTH\"] = myfun(WELL4COMPOSITE[\"DEPTH\"])\n",
    "WELL4COMPOSITE[\"CALI\"] = myfun(WELL4COMPOSITE[\"CALI\"])\n",
    "WELL4COMPOSITE[\"DENB\"] = myfun(WELL4COMPOSITE[\"DENB\"])\n",
    "WELL4COMPOSITE[\"DRHO\"] = myfun(WELL4COMPOSITE[\"DRHO\"])\n",
    "WELL4COMPOSITE[\"DTCOMP\"] = myfun(WELL4COMPOSITE[\"DTCOMP\"])\n",
    "WELL4COMPOSITE[\"GR\"] = myfun(WELL4COMPOSITE[\"GR\"])\n",
    "WELL4COMPOSITE[\"NEUT\"] = myfun(WELL4COMPOSITE[\"NEUT\"])\n",
    "WELL4COMPOSITE[\"RDEEP\"] = myfun(WELL4COMPOSITE[\"RDEEP\"])\n",
    "WELL4COMPOSITE[\"RMICRO\"] = myfun(WELL4COMPOSITE[\"RMICRO\"])\n",
    "\n",
    "WELL4COMPOSITE = WELL4COMPOSITE[[ 'wellName', 'datasetName', 'DEPTH', 'CALI', 'DENB', 'DRHO', 'DTCOMP', 'GR', 'NEUT','RDEEP', 'RMICRO']].copy()\n",
    "\n",
    "WELL4COMPOSITE.to_csv(\"WELL4COMPOSITE.csv\")\n"
   ]
  },
  {
   "cell_type": "code",
   "execution_count": 11,
   "metadata": {},
   "outputs": [],
   "source": [
    "WELL5COMPOSITE[\"wellName\"] = \"WELL5COMPOSITE\"\n",
    "WELL5COMPOSITE[\"datasetName\"] = \"clean\"\n",
    "\n",
    "WELL5COMPOSITE[\"DEPTH\"] = myfun(WELL5COMPOSITE[\"DEPTH\"])\n",
    "WELL5COMPOSITE[\"CALI\"] = myfun(WELL5COMPOSITE[\"CALI\"])\n",
    "WELL5COMPOSITE[\"DENB\"] = myfun(WELL5COMPOSITE[\"DENB\"])\n",
    "WELL5COMPOSITE[\"DRHO\"] = myfun(WELL5COMPOSITE[\"DRHO\"])\n",
    "WELL5COMPOSITE[\"DTCOMP\"] = myfun(WELL5COMPOSITE[\"DTCOMP\"])\n",
    "WELL5COMPOSITE[\"GR\"] = myfun(WELL5COMPOSITE[\"GR\"])\n",
    "WELL5COMPOSITE[\"NEUT\"] = myfun(WELL5COMPOSITE[\"NEUT\"])\n",
    "WELL5COMPOSITE[\"RDEEP\"] = myfun(WELL5COMPOSITE[\"RDEEP\"])\n",
    "WELL5COMPOSITE[\"RMICRO\"] = myfun(WELL5COMPOSITE[\"RMICRO\"])\n",
    "\n",
    "WELL5COMPOSITE = WELL5COMPOSITE[[ 'wellName', 'datasetName', 'DEPTH', 'CALI', 'DENB', 'DRHO', 'DTCOMP', 'GR', 'NEUT', 'PEF', 'RDEEP', 'RMICRO']].copy()\n",
    "WELL5COMPOSITE.to_csv(\"WELL5COMPOSITE.csv\")\n"
   ]
  },
  {
   "cell_type": "code",
   "execution_count": 71,
   "metadata": {},
   "outputs": [],
   "source": [
    "WELL6COMPOSITE[\"wellName\"] = \"WELL6COMPOSITE\"\n",
    "WELL6COMPOSITE[\"datasetName\"] = \"clean\"\n",
    "\n",
    "WELL6COMPOSITE[\"DEPTH\"] = myfun(WELL6COMPOSITE[\"DEPTH\"])\n",
    "WELL6COMPOSITE[\"CALI\"] = myfun(WELL6COMPOSITE[\"CALI\"])\n",
    "WELL6COMPOSITE[\"DENB\"] = myfun(WELL6COMPOSITE[\"DENB\"])\n",
    "WELL6COMPOSITE[\"DRHO\"] = myfun(WELL6COMPOSITE[\"DRHO\"])\n",
    "WELL6COMPOSITE[\"DTCOMP\"] = myfun(WELL6COMPOSITE[\"DTCOMP\"])\n",
    "WELL6COMPOSITE[\"GR\"] = myfun(WELL6COMPOSITE[\"GR\"])\n",
    "WELL6COMPOSITE[\"NEUT\"] = myfun(WELL6COMPOSITE[\"NEUT\"])\n",
    "WELL6COMPOSITE[\"PEF\"] = myfun(WELL6COMPOSITE[\"PEF\"])\n",
    "WELL6COMPOSITE[\"RDEEP\"] = myfun(WELL6COMPOSITE[\"RDEEP\"])\n",
    "WELL6COMPOSITE[\"RMICRO\"] = myfun(WELL6COMPOSITE[\"RMICRO\"])\n",
    "WELL6COMPOSITE[\"RSHAL\"] = myfun(WELL6COMPOSITE[\"RSHAL\"])\n",
    "\n",
    "WELL6COMPOSITE.drop(['PEF', 'RSHAL'], axis=1)\n",
    "\n",
    "WELL6COMPOSITE = WELL6COMPOSITE[[ 'wellName', 'datasetName', 'DEPTH', 'CALI', 'DENB', 'DRHO', 'DTCOMP', 'GR', 'NEUT','RDEEP', 'RMICRO']].copy()\n",
    "\n",
    "WELL6COMPOSITE.to_csv(\"WELL6COMPOSITE.csv\")"
   ]
  }
 ],
 "metadata": {
  "kernelspec": {
   "display_name": "nazmi-py37",
   "language": "python",
   "name": "nazmi-py37"
  },
  "language_info": {
   "codemirror_mode": {
    "name": "ipython",
    "version": 3
   },
   "file_extension": ".py",
   "mimetype": "text/x-python",
   "name": "python",
   "nbconvert_exporter": "python",
   "pygments_lexer": "ipython3",
   "version": "3.7.4"
  }
 },
 "nbformat": 4,
 "nbformat_minor": 2
}
