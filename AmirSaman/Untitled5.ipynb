{
 "cells": [
  {
   "cell_type": "code",
   "execution_count": 11,
   "metadata": {},
   "outputs": [
    {
     "name": "stdout",
     "output_type": "stream",
     "text": [
      "AAPG_Abstract_2019ACE.md  environment.yml  requirements_dev.txt\r\n",
      "AUTHORS.rst               HISTORY.rst      requirements.txt\r\n",
      "CODE_OF_CONDUCT.md        LICENSE          setup.cfg\r\n",
      "CONTRIBUTING.rst          Makefile         setup.py\r\n",
      "\u001b[0m\u001b[01;34mdata\u001b[0m/                     MANIFEST.in      \u001b[01;34mtests\u001b[0m/\r\n",
      "\u001b[01;34mdemo\u001b[0m/                     \u001b[01;34mpredictatops\u001b[0m/    tox.ini\r\n",
      "\u001b[01;34mdocs\u001b[0m/                     README.md\r\n",
      "environment_initial.yml   README.rst\r\n"
     ]
    }
   ],
   "source": [
    "cd \n"
   ]
  }
 ],
 "metadata": {
  "kernelspec": {
   "display_name": "predictatops-py36",
   "language": "python",
   "name": "predictatops-py36"
  },
  "language_info": {
   "codemirror_mode": {
    "name": "ipython",
    "version": 3
   },
   "file_extension": ".py",
   "mimetype": "text/x-python",
   "name": "python",
   "nbconvert_exporter": "python",
   "pygments_lexer": "ipython3",
   "version": "3.6.6"
  }
 },
 "nbformat": 4,
 "nbformat_minor": 2
}
