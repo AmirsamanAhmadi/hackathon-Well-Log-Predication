{
 "cells": [
  {
   "cell_type": "code",
   "execution_count": 77,
   "metadata": {},
   "outputs": [],
   "source": [
    "import lasio\n",
    "import glob\n",
    "import numpy as np\n",
    "import pandas as pd\n",
    "import seaborn as sns\n",
    "import matplotlib.pyplot as plt\n",
    "import warnings\n",
    "from math import ceil\n",
    "warnings.simplefilter('ignore')\n",
    "sns.set()\n",
    "import welly as well\n"
   ]
  },
  {
   "cell_type": "code",
   "execution_count": 78,
   "metadata": {},
   "outputs": [
    {
     "name": "stderr",
     "output_type": "stream",
     "text": [
      "Header section Parameter regexp=~P was not found.\n"
     ]
    }
   ],
   "source": [
    "las = lasio.read(\"../data/PETROPHYSICS/WELL-6_COMPOSITE.LAS\")\n",
    "well_6_composite_las = las.df()\n",
    "well_6_composite_las.drop_duplicates(inplace=True)\n",
    "well_6_composite_las.to_csv(\"well_6_composite_las.csv\")"
   ]
  },
  {
   "cell_type": "code",
   "execution_count": 79,
   "metadata": {},
   "outputs": [],
   "source": [
    "well_6_composite_CSV = pd.read_csv('well_6_composite_las.csv')"
   ]
  },
  {
   "cell_type": "code",
   "execution_count": 80,
   "metadata": {},
   "outputs": [],
   "source": [
    "well_6_composite_CSV.to_csv(\"well_6_composite_las.csv\")"
   ]
  },
  {
   "cell_type": "code",
   "execution_count": 84,
   "metadata": {},
   "outputs": [],
   "source": [
    "well_6_composite_CSV = pd.read_csv('well_6_composite_las.csv')"
   ]
  },
  {
   "cell_type": "code",
   "execution_count": null,
   "metadata": {},
   "outputs": [],
   "source": []
  },
  {
   "cell_type": "code",
   "execution_count": null,
   "metadata": {},
   "outputs": [],
   "source": []
  },
  {
   "cell_type": "code",
   "execution_count": 88,
   "metadata": {},
   "outputs": [],
   "source": [
    "def myfun(array):\n",
    "    val = [];\n",
    "    d = np.array(array);\n",
    "    for x in array:\n",
    "        d = float(str(x).replace(\",\",\"\"))\n",
    "        val.append(float(d))\n",
    "    return val;"
   ]
  },
  {
   "cell_type": "code",
   "execution_count": null,
   "metadata": {},
   "outputs": [],
   "source": []
  },
  {
   "cell_type": "code",
   "execution_count": 89,
   "metadata": {},
   "outputs": [],
   "source": [
    "well_6_composite_CSV[\"DEPTH\"] = myfun(well_6_composite_CSV[\"DEPTH\"])\n",
    "well_6_composite_CSV[\"CALI\"] = myfun(well_6_composite_CSV[\"CALI\"])\n",
    "well_6_composite_CSV[\"DENB\"] = myfun(well_6_composite_CSV[\"DENB\"])\n",
    "well_6_composite_CSV[\"DRHO\"] = myfun(well_6_composite_CSV[\"DRHO\"])\n",
    "well_6_composite_CSV[\"DTCOMP\"] = myfun(well_6_composite_CSV[\"DTCOMP\"])\n",
    "well_6_composite_CSV[\"GR\"] = myfun(well_6_composite_CSV[\"GR\"])\n",
    "well_6_composite_CSV[\"NEUT\"] = myfun(well_6_composite_CSV[\"NEUT\"])\n",
    "well_6_composite_CSV[\"PEF\"] = myfun(well_6_composite_CSV[\"PEF\"])\n",
    "well_6_composite_CSV[\"RDEEP\"] = myfun(well_6_composite_CSV[\"RDEEP\"])\n",
    "well_6_composite_CSV[\"RMICRO\"] = myfun(well_6_composite_CSV[\"RMICRO\"])\n",
    "well_6_composite_CSV[\"RSHAL\"] = myfun(well_6_composite_CSV[\"RSHAL\"])"
   ]
  },
  {
   "cell_type": "code",
   "execution_count": null,
   "metadata": {},
   "outputs": [],
   "source": []
  },
  {
   "cell_type": "code",
   "execution_count": 74,
   "metadata": {},
   "outputs": [
    {
     "name": "stdout",
     "output_type": "stream",
     "text": [
      "<class 'pandas.core.frame.DataFrame'>\n",
      "RangeIndex: 7902 entries, 0 to 7901\n",
      "Data columns (total 11 columns):\n",
      "DEPTH     7902 non-null float64\n",
      "CALI      7902 non-null float64\n",
      "DENB      7902 non-null float64\n",
      "DRHO      7902 non-null float64\n",
      "DTCOMP    7902 non-null float64\n",
      "GR        7902 non-null float64\n",
      "NEUT      7902 non-null float64\n",
      "PEF       7902 non-null float64\n",
      "RDEEP     7902 non-null float64\n",
      "RMICRO    7902 non-null float64\n",
      "RSHAL     7902 non-null float64\n",
      "dtypes: float64(11)\n",
      "memory usage: 679.2 KB\n"
     ]
    }
   ],
   "source": [
    "well_6_composite_CSV.info()"
   ]
  },
  {
   "cell_type": "code",
   "execution_count": 26,
   "metadata": {},
   "outputs": [
    {
     "data": {
      "text/plain": [
       "DEPTH     0\n",
       "CALI      0\n",
       "DENB      0\n",
       "DRHO      0\n",
       "DTCOMP    0\n",
       "GR        0\n",
       "NEUT      0\n",
       "PEF       0\n",
       "RDEEP     0\n",
       "RMICRO    0\n",
       "RSHAL     0\n",
       "dtype: int64"
      ]
     },
     "execution_count": 26,
     "metadata": {},
     "output_type": "execute_result"
    }
   ],
   "source": [
    "well_6_composite_CSV.isnull().sum()"
   ]
  },
  {
   "cell_type": "code",
   "execution_count": 28,
   "metadata": {},
   "outputs": [
    {
     "data": {
      "text/plain": [
       "DEPTH     float64\n",
       "CALI      float64\n",
       "DENB      float64\n",
       "DRHO      float64\n",
       "DTCOMP    float64\n",
       "GR        float64\n",
       "NEUT      float64\n",
       "PEF       float64\n",
       "RDEEP     float64\n",
       "RMICRO    float64\n",
       "RSHAL     float64\n",
       "dtype: object"
      ]
     },
     "execution_count": 28,
     "metadata": {},
     "output_type": "execute_result"
    }
   ],
   "source": [
    "well_6_composite_CSV.dtypes"
   ]
  },
  {
   "cell_type": "code",
   "execution_count": 30,
   "metadata": {},
   "outputs": [],
   "source": [
    "cov_well6 = well_6_composite_CSV.cov()"
   ]
  },
  {
   "cell_type": "code",
   "execution_count": 31,
   "metadata": {},
   "outputs": [],
   "source": [
    "corr_well6 = well_6_composite_CSV.corr()"
   ]
  },
  {
   "cell_type": "code",
   "execution_count": 32,
   "metadata": {},
   "outputs": [
    {
     "data": {
      "text/plain": [
       "<matplotlib.axes._subplots.AxesSubplot at 0x7fb87e383d50>"
      ]
     },
     "execution_count": 32,
     "metadata": {},
     "output_type": "execute_result"
    },
    {
     "data": {
      "image/png": "[encoded data removed]",
      "text/plain": [
       "<Figure size 432x288 with 2 Axes>"
      ]
     },
     "metadata": {},
     "output_type": "display_data"
    }
   ],
   "source": [
    "sns.heatmap(corr_well6)"
   ]
  },
  {
   "cell_type": "code",
   "execution_count": 37,
   "metadata": {},
   "outputs": [
    {
     "data": {
      "text/html": [
       "<div>\n",
       "<style scoped>\n",
       "    .dataframe tbody tr th:only-of-type {\n",
       "        vertical-align: middle;\n",
       "    }\n",
       "\n",
       "    .dataframe tbody tr th {\n",
       "        vertical-align: top;\n",
       "    }\n",
       "\n",
       "    .dataframe thead th {\n",
       "        text-align: right;\n",
       "    }\n",
       "</style>\n",
       "<table border=\"1\" class=\"dataframe\">\n",
       "  <thead>\n",
       "    <tr style=\"text-align: right;\">\n",
       "      <th></th>\n",
       "      <th>count</th>\n",
       "      <th>mean</th>\n",
       "      <th>std</th>\n",
       "      <th>min</th>\n",
       "      <th>25%</th>\n",
       "      <th>50%</th>\n",
       "      <th>75%</th>\n",
       "      <th>max</th>\n",
       "    </tr>\n",
       "  </thead>\n",
       "  <tbody>\n",
       "    <tr>\n",
       "      <th>DEPTH</th>\n",
       "      <td>7902.0</td>\n",
       "      <td>938.769169</td>\n",
       "      <td>347.741686</td>\n",
       "      <td>328.7268</td>\n",
       "      <td>637.679700</td>\n",
       "      <td>938.707800</td>\n",
       "      <td>1239.888300</td>\n",
       "      <td>1540.916400</td>\n",
       "    </tr>\n",
       "    <tr>\n",
       "      <th>CALI</th>\n",
       "      <td>7902.0</td>\n",
       "      <td>15.801897</td>\n",
       "      <td>16.359764</td>\n",
       "      <td>-999.2500</td>\n",
       "      <td>12.949000</td>\n",
       "      <td>17.562500</td>\n",
       "      <td>17.781200</td>\n",
       "      <td>23.171900</td>\n",
       "    </tr>\n",
       "    <tr>\n",
       "      <th>DENB</th>\n",
       "      <td>7902.0</td>\n",
       "      <td>-6.552345</td>\n",
       "      <td>93.176505</td>\n",
       "      <td>-999.2500</td>\n",
       "      <td>1.929600</td>\n",
       "      <td>2.272000</td>\n",
       "      <td>2.360400</td>\n",
       "      <td>2.696900</td>\n",
       "    </tr>\n",
       "    <tr>\n",
       "      <th>DRHO</th>\n",
       "      <td>7902.0</td>\n",
       "      <td>-8.748166</td>\n",
       "      <td>92.970125</td>\n",
       "      <td>-999.2500</td>\n",
       "      <td>-0.009837</td>\n",
       "      <td>0.005306</td>\n",
       "      <td>0.018901</td>\n",
       "      <td>0.149769</td>\n",
       "    </tr>\n",
       "    <tr>\n",
       "      <th>DTCOMP</th>\n",
       "      <td>7902.0</td>\n",
       "      <td>-586.199078</td>\n",
       "      <td>537.141063</td>\n",
       "      <td>-999.2500</td>\n",
       "      <td>-999.250000</td>\n",
       "      <td>-999.250000</td>\n",
       "      <td>105.026575</td>\n",
       "      <td>200.590300</td>\n",
       "    </tr>\n",
       "    <tr>\n",
       "      <th>GR</th>\n",
       "      <td>7902.0</td>\n",
       "      <td>56.769358</td>\n",
       "      <td>185.722980</td>\n",
       "      <td>-999.2500</td>\n",
       "      <td>79.313150</td>\n",
       "      <td>86.425150</td>\n",
       "      <td>93.707950</td>\n",
       "      <td>325.662100</td>\n",
       "    </tr>\n",
       "    <tr>\n",
       "      <th>NEUT</th>\n",
       "      <td>7902.0</td>\n",
       "      <td>-13.935074</td>\n",
       "      <td>118.686422</td>\n",
       "      <td>-999.2500</td>\n",
       "      <td>0.274721</td>\n",
       "      <td>0.359375</td>\n",
       "      <td>0.421932</td>\n",
       "      <td>0.724461</td>\n",
       "    </tr>\n",
       "    <tr>\n",
       "      <th>PEF</th>\n",
       "      <td>7902.0</td>\n",
       "      <td>-5.996597</td>\n",
       "      <td>96.584821</td>\n",
       "      <td>-999.2500</td>\n",
       "      <td>2.927800</td>\n",
       "      <td>3.246100</td>\n",
       "      <td>3.313825</td>\n",
       "      <td>27.228900</td>\n",
       "    </tr>\n",
       "    <tr>\n",
       "      <th>RDEEP</th>\n",
       "      <td>7902.0</td>\n",
       "      <td>-1.194267</td>\n",
       "      <td>56.296069</td>\n",
       "      <td>-999.2500</td>\n",
       "      <td>1.007500</td>\n",
       "      <td>1.373200</td>\n",
       "      <td>2.255575</td>\n",
       "      <td>59.576500</td>\n",
       "    </tr>\n",
       "    <tr>\n",
       "      <th>RMICRO</th>\n",
       "      <td>7902.0</td>\n",
       "      <td>-13.596570</td>\n",
       "      <td>123.297907</td>\n",
       "      <td>-999.2500</td>\n",
       "      <td>0.546900</td>\n",
       "      <td>0.725600</td>\n",
       "      <td>1.067275</td>\n",
       "      <td>1593.187400</td>\n",
       "    </tr>\n",
       "    <tr>\n",
       "      <th>RSHAL</th>\n",
       "      <td>7902.0</td>\n",
       "      <td>-1.641233</td>\n",
       "      <td>56.230184</td>\n",
       "      <td>-999.2500</td>\n",
       "      <td>0.797150</td>\n",
       "      <td>1.126200</td>\n",
       "      <td>1.789650</td>\n",
       "      <td>32.039800</td>\n",
       "    </tr>\n",
       "  </tbody>\n",
       "</table>\n",
       "</div>"
      ],
      "text/plain": [
       "         count        mean         std       min         25%         50%  \\\n",
       "DEPTH   7902.0  938.769169  347.741686  328.7268  637.679700  938.707800   \n",
       "CALI    7902.0   15.801897   16.359764 -999.2500   12.949000   17.562500   \n",
       "DENB    7902.0   -6.552345   93.176505 -999.2500    1.929600    2.272000   \n",
       "DRHO    7902.0   -8.748166   92.970125 -999.2500   -0.009837    0.005306   \n",
       "DTCOMP  7902.0 -586.199078  537.141063 -999.2500 -999.250000 -999.250000   \n",
       "GR      7902.0   56.769358  185.722980 -999.2500   79.313150   86.425150   \n",
       "NEUT    7902.0  -13.935074  118.686422 -999.2500    0.274721    0.359375   \n",
       "PEF     7902.0   -5.996597   96.584821 -999.2500    2.927800    3.246100   \n",
       "RDEEP   7902.0   -1.194267   56.296069 -999.2500    1.007500    1.373200   \n",
       "RMICRO  7902.0  -13.596570  123.297907 -999.2500    0.546900    0.725600   \n",
       "RSHAL   7902.0   -1.641233   56.230184 -999.2500    0.797150    1.126200   \n",
       "\n",
       "                75%          max  \n",
       "DEPTH   1239.888300  1540.916400  \n",
       "CALI      17.781200    23.171900  \n",
       "DENB       2.360400     2.696900  \n",
       "DRHO       0.018901     0.149769  \n",
       "DTCOMP   105.026575   200.590300  \n",
       "GR        93.707950   325.662100  \n",
       "NEUT       0.421932     0.724461  \n",
       "PEF        3.313825    27.228900  \n",
       "RDEEP      2.255575    59.576500  \n",
       "RMICRO     1.067275  1593.187400  \n",
       "RSHAL      1.789650    32.039800  "
      ]
     },
     "execution_count": 37,
     "metadata": {},
     "output_type": "execute_result"
    }
   ],
   "source": [
    "well_6_composite_CSV.describe().T"
   ]
  },
  {
   "cell_type": "code",
   "execution_count": null,
   "metadata": {},
   "outputs": [],
   "source": []
  }
 ],
 "metadata": {
  "kernelspec": {
   "display_name": "nazmi-py37",
   "language": "python",
   "name": "nazmi-py37"
  },
  "language_info": {
   "codemirror_mode": {
    "name": "ipython",
    "version": 3
   },
   "file_extension": ".py",
   "mimetype": "text/x-python",
   "name": "python",
   "nbconvert_exporter": "python",
   "pygments_lexer": "ipython3",
   "version": "3.7.4"
  }
 },
 "nbformat": 4,
 "nbformat_minor": 2
}
