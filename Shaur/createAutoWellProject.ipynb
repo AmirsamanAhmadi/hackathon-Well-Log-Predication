{
 "cells": [
  {
   "cell_type": "code",
   "execution_count": 21,
   "metadata": {},
   "outputs": [
    {
     "name": "stderr",
     "output_type": "stream",
     "text": [
      "usage: ipykernel_launcher.py [-h] ../data/PETROPHYSICS/WELL-6_COMPOSITE.LAS\n",
      "ipykernel_launcher.py: error: unrecognized arguments: -f\n"
     ]
    },
    {
     "ename": "SystemExit",
     "evalue": "2",
     "output_type": "error",
     "traceback": [
      "An exception has occurred, use %tb to see the full traceback.\n",
      "\u001b[0;31mSystemExit\u001b[0m\u001b[0;31m:\u001b[0m 2\n"
     ]
    }
   ],
   "source": [
    "#!/usr/bin/env python3\n",
    "# -*- coding: utf-8 -*-\n",
    "\"\"\"\n",
    "Created on Mon Jul 22 11:16:21 2019\n",
    "\n",
    "@author: dudley\n",
    "\"\"\"\n",
    "\n",
    "import os, lasio, argparse\n",
    "import pandas as pd\n",
    "\n",
    "\n",
    "'''\n",
    "This script is intended to create a project file containing all of the data\n",
    "necessary to run the auto correlation script.  A HDF5 data store will be created\n",
    "that contains well header information as well as well log data, both stored as\n",
    "pandas data frames.  In order for this script to run, the LAS file name must \n",
    "be the UWI/API number.  \n",
    "\n",
    "Run from the command line and provide required command line arguements:\n",
    "    \n",
    "--proj-name : The name that of the project, this will be the file name\n",
    "--proj-dir : Location where the project file will be saved\n",
    "--header-dir : Location of the header file for the wells in the analysis\n",
    "--las-dir : Location of the LAS files to be used in the analysis\n",
    "--uwi-col : Name of the column in the header file to be used as the well identifier\n",
    "--x-col : Name of the column in the header file to be used as the X coordinate\n",
    "--y-col : Name of the column in the header file to be used as the Y coordinate\n",
    "--log-name : Name of the well log to be used in the analysis\n",
    "--uwi-subset : List of UWIs to use in the analysis\n",
    "\n",
    "'''\n",
    "\n",
    "\n",
    "class CreateProject:\n",
    "    \n",
    "    def __init__(self, args):\n",
    "        \n",
    "        self.projName = args.proj_name\n",
    "        self.projDir = args.proj_dir\n",
    "        self.headerDir = args.header_dir\n",
    "        self.lasDir = args.las_dir\n",
    "        self.uwiCol = args.uwi_col\n",
    "        self.xCol = args.x_col\n",
    "        self.yCol = args.y_col\n",
    "        self.logName = args.log_name\n",
    "        self.uwiSubset = args.uwi_subset\n",
    "        \n",
    "        self.makeProjectDir()\n",
    "        self.readHeaderFile()\n",
    "        self.readLasFiles()\n",
    "    \n",
    "    \n",
    "    # Determine if project directory exists, if not create it\n",
    "    def makeProjectDir(self):\n",
    "        \n",
    "        if not os.path.exists(self.projDir):\n",
    "            os.makedirs(self.projDir)\n",
    "            \n",
    "            \n",
    "    # Read the header file and save it to directory\n",
    "    def readHeaderFile(self):\n",
    "        \n",
    "        # Read header and subset file to appropriate columns\n",
    "        self.header = pd.read_csv(self.headerDir)\n",
    "        self.header = self.header[[self.uwiCol, self.xCol, self.yCol]]\n",
    "        self.header.columns = ['UWI', 'X', 'Y']\n",
    "        \n",
    "        # If a subset of UWI's have been specified, limit file to those entries\n",
    "        if len(self.uwiSubset) > 0:\n",
    "            self.header = self.header[self.header['UWI'].isin(self.uwiSubset)]\n",
    "        \n",
    "        # Create a HDF5 data store and save file\n",
    "        path = os.path.join(self.projDir, '{}.eg'.format(self.projName))\n",
    "        with pd.HDFStore(path, 'a') as store:\n",
    "            store['header'] = self.header\n",
    "            \n",
    "        \n",
    "    # Read LAS files and save to directory\n",
    "    def readLasFiles(self):\n",
    "        \n",
    "        # Open HDF5 data store and save LAS files as pandas DataFrames\n",
    "        path = os.path.join(self.projDir, '{}.eg'.format(self.projName))\n",
    "        with pd.HDFStore(path, 'a') as store:\n",
    "            \n",
    "            # Get list of files in LAS directory\n",
    "            if os.path.exists(self.lasDir):\n",
    "                for f in os.listdir(self.lasDir):\n",
    "                    try:\n",
    "                        # Get UWI name from file name\n",
    "                        uwi = f.split('.')[0]\n",
    "                        # Get index of well from header\n",
    "                        uid = self.header[self.header['UWI'] == int(uwi)].index[0]\n",
    "                        # Read LAS data\n",
    "                        path = os.path.join(self.lasDir, f)\n",
    "                        las = lasio.read(path, ignore_data=True)\n",
    "                        # Determine if LAS file has appropriate log, remove\n",
    "                        # null values, and save\n",
    "                        if self.logName in las.df().columns:\n",
    "                            df = pd.DataFrame(las.df()[self.logName]).dropna()\n",
    "                            store['/log/{}'.format(uid)] = df\n",
    "                            \n",
    "                    except Exception as e:\n",
    "                        print(e) \n",
    "                    \n",
    "                    \n",
    "if __name__ == '__main__':\n",
    "\n",
    "    # Get command line arguements\n",
    "    parser = argparse.ArgumentParser()\n",
    "    arg = parser.add_argument\n",
    "#     arg('myproj', type=str, default='autoWell')\n",
    "    #arg('/', type=str)\n",
    "    #arg('--header-dir', type=str)\n",
    "    arg('../data/PETROPHYSICS/WELL-6_COMPOSITE.LAS')\n",
    "    args = parser.parse_args()\n",
    "    \n",
    "    CreateProject(args)"
   ]
  },
  {
   "cell_type": "code",
   "execution_count": 15,
   "metadata": {},
   "outputs": [
    {
     "name": "stderr",
     "output_type": "stream",
     "text": [
      "Header section Parameter regexp=~P was not found.\n"
     ]
    },
    {
     "data": {
      "text/plain": [
       "<lasio.las.LASFile at 0x7eff08d3dc50>"
      ]
     },
     "execution_count": 15,
     "metadata": {},
     "output_type": "execute_result"
    }
   ],
   "source": [
    "lasio.read(\"../data/PETROPHYSICS/WELL-6_COMPOSITE.LAS\")"
   ]
  }
 ],
 "metadata": {
  "kernelspec": {
   "display_name": "nazmi-py37",
   "language": "python",
   "name": "nazmi-py37"
  },
  "language_info": {
   "codemirror_mode": {
    "name": "ipython",
    "version": 3
   },
   "file_extension": ".py",
   "mimetype": "text/x-python",
   "name": "python",
   "nbconvert_exporter": "python",
   "pygments_lexer": "ipython3",
   "version": "3.7.4"
  }
 },
 "nbformat": 4,
 "nbformat_minor": 2
}
