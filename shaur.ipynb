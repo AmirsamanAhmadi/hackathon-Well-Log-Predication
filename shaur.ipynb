{
 "cells": [
  {
   "cell_type": "code",
   "execution_count": 19,
   "metadata": {},
   "outputs": [],
   "source": [
    "import pandas as pd"
   ]
  },
  {
   "cell_type": "code",
   "execution_count": 33,
   "metadata": {},
   "outputs": [],
   "source": [
    "xls = pd.read_excel(\"data/GENERAL_WELL_DATA/Checkshot.xlsx\")"
   ]
  },
  {
   "cell_type": "code",
   "execution_count": null,
   "metadata": {},
   "outputs": [],
   "source": []
  },
  {
   "cell_type": "code",
   "execution_count": 29,
   "metadata": {},
   "outputs": [
    {
     "name": "stderr",
     "output_type": "stream",
     "text": [
      "/anaconda/envs/py36/lib/python3.6/site-packages/ipykernel/__main__.py:1: FutureWarning: Sorting because non-concatenation axis is not aligned. A future version\n",
      "of pandas will change to not sort by default.\n",
      "\n",
      "To accept the future behavior, pass 'sort=False'.\n",
      "\n",
      "To retain the current behavior and silence the warning, pass 'sort=True'.\n",
      "\n",
      "  if __name__ == '__main__':\n"
     ]
    }
   ],
   "source": [
    "df = pd.concat(pd.read_excel('data/GENERAL_WELL_DATA/Checkshot.xlsx', sheet_name=None), ignore_index=True)"
   ]
  },
  {
   "cell_type": "code",
   "execution_count": 32,
   "metadata": {},
   "outputs": [
    {
     "data": {
      "text/plain": [
       "22"
      ]
     },
     "execution_count": 32,
     "metadata": {},
     "output_type": "execute_result"
    }
   ],
   "source": [
    "df[\"wellbore_name\"].nunique()"
   ]
  },
  {
   "cell_type": "code",
   "execution_count": 21,
   "metadata": {},
   "outputs": [
    {
     "name": "stdout",
     "output_type": "stream",
     "text": [
      "Collecting xlrd\n",
      "\u001b[?25l  Downloading https://files.pythonhosted.org/packages/b0/16/63576a1a001752e34bf8ea62e367997530dc553b689356b9879339cf45a4/xlrd-1.2.0-py2.py3-none-any.whl (103kB)\n",
      "\u001b[K     |████████████████████████████████| 112kB 25.0MB/s eta 0:00:01\n",
      "\u001b[?25hInstalling collected packages: xlrd\n",
      "Successfully installed xlrd-1.2.0\n"
     ]
    }
   ],
   "source": [
    "!pip install xlrd"
   ]
  },
  {
   "cell_type": "code",
   "execution_count": 34,
   "metadata": {},
   "outputs": [
    {
     "name": "stdout",
     "output_type": "stream",
     "text": [
      "Collecting dash\n",
      "\u001b[?25l  Downloading https://files.pythonhosted.org/packages/1f/b3/7a33f4649d546d3df013eacf44233fbf774ef382e7f8e54fe52d1ff14303/dash-1.4.1.tar.gz (59kB)\n",
      "\u001b[K     |████████████████████████████████| 61kB 18.2MB/s eta 0:00:01\n",
      "\u001b[?25hRequirement already satisfied: Flask>=1.0.2 in /data/anaconda/envs/py36/lib/python3.6/site-packages (from dash) (1.1.0)\n",
      "Collecting flask-compress (from dash)\n",
      "  Downloading https://files.pythonhosted.org/packages/0e/2a/378bd072928f6d92fd8c417d66b00c757dc361c0405a46a0134de6fd323d/Flask-Compress-1.4.0.tar.gz\n",
      "Collecting plotly (from dash)\n",
      "  Using cached https://files.pythonhosted.org/packages/f7/05/3c32c6bc85acbd30a18fbc3ba732fed5e48e5f8fd60d2a148877970f4a61/plotly-4.2.1-py2.py3-none-any.whl\n",
      "Collecting dash_renderer==1.1.2 (from dash)\n",
      "\u001b[?25l  Downloading https://files.pythonhosted.org/packages/e3/8c/5c3da326bc8249a345ff4f737a7ec2eb32b74f61397ffba639fa3c02549b/dash_renderer-1.1.2.tar.gz (1.2MB)\n",
      "\u001b[K     |████████████████████████████████| 1.2MB 24.4MB/s eta 0:00:01\n",
      "\u001b[?25hCollecting dash-core-components==1.3.1 (from dash)\n",
      "\u001b[?25l  Downloading https://files.pythonhosted.org/packages/43/f3/3b02ed75036fc63caf4c3047fca31a0acedf9788c69c94a1990b42c97a3b/dash_core_components-1.3.1.tar.gz (2.1MB)\n",
      "\u001b[K     |████████████████████████████████| 2.1MB 45.9MB/s eta 0:00:01\n",
      "\u001b[?25hCollecting dash-html-components==1.0.1 (from dash)\n",
      "\u001b[?25l  Downloading https://files.pythonhosted.org/packages/0d/e8/e6f68c0a3c146d15bebe8d3570ebe535abdbba90b87e548bdf3363ecddbe/dash_html_components-1.0.1.tar.gz (187kB)\n",
      "\u001b[K     |████████████████████████████████| 194kB 44.6MB/s eta 0:00:01\n",
      "\u001b[?25hCollecting dash-table==4.4.1 (from dash)\n",
      "\u001b[?25l  Downloading https://files.pythonhosted.org/packages/7f/da/ff797fe21276d0b9cdd215486bb242fd937338e2104e466c17b8e1918c6f/dash_table-4.4.1.tar.gz (1.8MB)\n",
      "\u001b[K     |████████████████████████████████| 1.8MB 34.8MB/s eta 0:00:01\n",
      "\u001b[?25hRequirement already satisfied: future in /data/anaconda/envs/py36/lib/python3.6/site-packages (from dash) (0.17.1)\n",
      "Requirement already satisfied: itsdangerous>=0.24 in /data/anaconda/envs/py36/lib/python3.6/site-packages (from Flask>=1.0.2->dash) (1.1.0)\n",
      "Requirement already satisfied: Jinja2>=2.10.1 in /data/anaconda/envs/py36/lib/python3.6/site-packages (from Flask>=1.0.2->dash) (2.10.1)\n",
      "Requirement already satisfied: click>=5.1 in /data/anaconda/envs/py36/lib/python3.6/site-packages (from Flask>=1.0.2->dash) (7.0)\n",
      "Requirement already satisfied: Werkzeug>=0.15 in /data/anaconda/envs/py36/lib/python3.6/site-packages (from Flask>=1.0.2->dash) (0.15.4)\n",
      "Collecting retrying>=1.3.3 (from plotly->dash)\n",
      "  Using cached https://files.pythonhosted.org/packages/44/ef/beae4b4ef80902f22e3af073397f079c96969c69b2c7d52a57ea9ae61c9d/retrying-1.3.3.tar.gz\n",
      "Requirement already satisfied: six in /data/anaconda/envs/py36/lib/python3.6/site-packages (from plotly->dash) (1.12.0)\n",
      "Requirement already satisfied: MarkupSafe>=0.23 in /data/anaconda/envs/py36/lib/python3.6/site-packages (from Jinja2>=2.10.1->Flask>=1.0.2->dash) (1.1.1)\n",
      "Building wheels for collected packages: dash, flask-compress, dash-renderer, dash-core-components, dash-html-components, dash-table, retrying\n",
      "  Building wheel for dash (setup.py) ... \u001b[?25ldone\n",
      "\u001b[?25h  Stored in directory: /home/apgcegeohack/.cache/pip/wheels/41/11/b7/643b47546d61ba55d7f29325c4952c1639edb8798887bad458\n",
      "  Building wheel for flask-compress (setup.py) ... \u001b[?25ldone\n",
      "\u001b[?25h  Stored in directory: /home/apgcegeohack/.cache/pip/wheels/96/32/88/a1f6d9dd3c29570ab3a8acc0d556b3b20abcf3c623c868ce0a\n",
      "  Building wheel for dash-renderer (setup.py) ... \u001b[?25ldone\n",
      "\u001b[?25h  Stored in directory: /home/apgcegeohack/.cache/pip/wheels/f6/07/8b/f262dd356b8cb359a5b3f5e4ff9d4ddb85854bd51f824ffa58\n",
      "  Building wheel for dash-core-components (setup.py) ... \u001b[?25ldone\n",
      "\u001b[?25h  Stored in directory: /home/apgcegeohack/.cache/pip/wheels/1c/17/c0/2b0efaea7c795d0b1c29e040683c10e8e2c78919d26ad1c0ae\n",
      "  Building wheel for dash-html-components (setup.py) ... \u001b[?25ldone\n",
      "\u001b[?25h  Stored in directory: /home/apgcegeohack/.cache/pip/wheels/54/27/d1/b452e9aa92aa1883543248a23707d448ada5f990d603f2ebf1\n",
      "  Building wheel for dash-table (setup.py) ... \u001b[?25ldone\n",
      "\u001b[?25h  Stored in directory: /home/apgcegeohack/.cache/pip/wheels/ea/fe/22/bb954af16a3c143e10a76ae239f73b5812c7d77d7b2d6c1af3\n",
      "  Building wheel for retrying (setup.py) ... \u001b[?25ldone\n",
      "\u001b[?25h  Stored in directory: /home/apgcegeohack/.cache/pip/wheels/d7/a9/33/acc7b709e2a35caa7d4cae442f6fe6fbf2c43f80823d46460c\n",
      "Successfully built dash flask-compress dash-renderer dash-core-components dash-html-components dash-table retrying\n",
      "Installing collected packages: flask-compress, retrying, plotly, dash-renderer, dash-core-components, dash-html-components, dash-table, dash\n",
      "Successfully installed dash-1.4.1 dash-core-components-1.3.1 dash-html-components-1.0.1 dash-renderer-1.1.2 dash-table-4.4.1 flask-compress-1.4.0 plotly-4.2.1 retrying-1.3.3\n"
     ]
    }
   ],
   "source": [
    "!pip install dash\n",
    "!pip install dash-renderer\n",
    "!pip install dash_html_components\n",
    "!pip install dash_core_components"
   ]
  },
  {
   "cell_type": "code",
   "execution_count": null,
   "metadata": {},
   "outputs": [],
   "source": []
  }
 ],
 "metadata": {
  "kernelspec": {
   "display_name": "Python 3.6 - AzureML",
   "language": "python",
   "name": "python3-azureml"
  },
  "language_info": {
   "codemirror_mode": {
    "name": "ipython",
    "version": 3
   },
   "file_extension": ".py",
   "mimetype": "text/x-python",
   "name": "python",
   "nbconvert_exporter": "python",
   "pygments_lexer": "ipython3",
   "version": "3.6.8"
  }
 },
 "nbformat": 4,
 "nbformat_minor": 2
}
