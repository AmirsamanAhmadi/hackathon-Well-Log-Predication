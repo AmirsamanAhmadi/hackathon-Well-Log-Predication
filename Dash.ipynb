{
 "cells": [
  {
   "cell_type": "code",
   "execution_count": 1,
   "metadata": {},
   "outputs": [
    {
     "name": "stdout",
     "output_type": "stream",
     "text": [
      "Collecting dash\n",
      "  Using cached https://files.pythonhosted.org/packages/1f/b3/7a33f4649d546d3df013eacf44233fbf774ef382e7f8e54fe52d1ff14303/dash-1.4.1.tar.gz\n",
      "Requirement already satisfied: Flask>=1.0.2 in /data/anaconda/envs/py35/lib/python3.5/site-packages (from dash) (1.0.2)\n",
      "Collecting flask-compress (from dash)\n",
      "  Using cached https://files.pythonhosted.org/packages/0e/2a/378bd072928f6d92fd8c417d66b00c757dc361c0405a46a0134de6fd323d/Flask-Compress-1.4.0.tar.gz\n",
      "Requirement already satisfied: plotly in /data/anaconda/envs/py35/lib/python3.5/site-packages (from dash) (2.7.0)\n",
      "Collecting dash_renderer==1.1.2 (from dash)\n",
      "  Using cached https://files.pythonhosted.org/packages/e3/8c/5c3da326bc8249a345ff4f737a7ec2eb32b74f61397ffba639fa3c02549b/dash_renderer-1.1.2.tar.gz\n",
      "Collecting dash-core-components==1.3.1 (from dash)\n",
      "  Using cached https://files.pythonhosted.org/packages/43/f3/3b02ed75036fc63caf4c3047fca31a0acedf9788c69c94a1990b42c97a3b/dash_core_components-1.3.1.tar.gz\n",
      "Collecting dash-html-components==1.0.1 (from dash)\n",
      "  Using cached https://files.pythonhosted.org/packages/0d/e8/e6f68c0a3c146d15bebe8d3570ebe535abdbba90b87e548bdf3363ecddbe/dash_html_components-1.0.1.tar.gz\n",
      "Collecting dash-table==4.4.1 (from dash)\n",
      "  Using cached https://files.pythonhosted.org/packages/7f/da/ff797fe21276d0b9cdd215486bb242fd937338e2104e466c17b8e1918c6f/dash_table-4.4.1.tar.gz\n",
      "Requirement already satisfied: future in /data/anaconda/envs/py35/lib/python3.5/site-packages (from dash) (0.17.1)\n",
      "Requirement already satisfied: click>=5.1 in /data/anaconda/envs/py35/lib/python3.5/site-packages (from Flask>=1.0.2->dash) (7.0)\n",
      "Requirement already satisfied: itsdangerous>=0.24 in /data/anaconda/envs/py35/lib/python3.5/site-packages (from Flask>=1.0.2->dash) (0.24)\n",
      "Requirement already satisfied: Jinja2>=2.10 in /data/anaconda/envs/py35/lib/python3.5/site-packages (from Flask>=1.0.2->dash) (2.10)\n",
      "Requirement already satisfied: Werkzeug>=0.14 in /data/anaconda/envs/py35/lib/python3.5/site-packages (from Flask>=1.0.2->dash) (0.14.1)\n",
      "Requirement already satisfied: decorator>=4.0.6 in /data/anaconda/envs/py35/lib/python3.5/site-packages (from plotly->dash) (4.3.0)\n",
      "Requirement already satisfied: pytz in /data/anaconda/envs/py35/lib/python3.5/site-packages (from plotly->dash) (2018.4)\n",
      "Requirement already satisfied: six in /data/anaconda/envs/py35/lib/python3.5/site-packages (from plotly->dash) (1.11.0)\n",
      "Requirement already satisfied: nbformat>=4.2 in /data/anaconda/envs/py35/lib/python3.5/site-packages (from plotly->dash) (4.4.0)\n",
      "Requirement already satisfied: requests in /data/anaconda/envs/py35/lib/python3.5/site-packages (from plotly->dash) (2.18.4)\n",
      "Requirement already satisfied: MarkupSafe>=0.23 in /data/anaconda/envs/py35/lib/python3.5/site-packages (from Jinja2>=2.10->Flask>=1.0.2->dash) (1.0)\n",
      "Requirement already satisfied: ipython_genutils in /data/anaconda/envs/py35/lib/python3.5/site-packages (from nbformat>=4.2->plotly->dash) (0.2.0)\n",
      "Requirement already satisfied: traitlets>=4.1 in /data/anaconda/envs/py35/lib/python3.5/site-packages (from nbformat>=4.2->plotly->dash) (4.3.2)\n",
      "Requirement already satisfied: jsonschema!=2.5.0,>=2.4 in /data/anaconda/envs/py35/lib/python3.5/site-packages (from nbformat>=4.2->plotly->dash) (2.6.0)\n",
      "Requirement already satisfied: jupyter_core in /data/anaconda/envs/py35/lib/python3.5/site-packages (from nbformat>=4.2->plotly->dash) (4.4.0)\n",
      "Requirement already satisfied: urllib3<1.23,>=1.21.1 in /data/anaconda/envs/py35/lib/python3.5/site-packages (from requests->plotly->dash) (1.22)\n",
      "Requirement already satisfied: certifi>=2017.4.17 in /data/anaconda/envs/py35/lib/python3.5/site-packages (from requests->plotly->dash) (2018.8.24)\n",
      "Requirement already satisfied: chardet<3.1.0,>=3.0.2 in /data/anaconda/envs/py35/lib/python3.5/site-packages (from requests->plotly->dash) (3.0.4)\n",
      "Requirement already satisfied: idna<2.7,>=2.5 in /data/anaconda/envs/py35/lib/python3.5/site-packages (from requests->plotly->dash) (2.6)\n",
      "Building wheels for collected packages: dash, flask-compress, dash-renderer, dash-core-components, dash-html-components, dash-table\n",
      "  Building wheel for dash (setup.py) ... \u001b[?25ldone\n",
      "\u001b[?25h  Created wheel for dash: filename=dash-1.4.1-cp35-none-any.whl size=65641 sha256=abf929387e2be4a02903180af5e593f3c838be85e5e5cac41c7582aaf58511e5\n",
      "  Stored in directory: /home/apgcegeohack/.cache/pip/wheels/41/11/b7/643b47546d61ba55d7f29325c4952c1639edb8798887bad458\n",
      "  Building wheel for flask-compress (setup.py) ... \u001b[?25ldone\n",
      "\u001b[?25h  Created wheel for flask-compress: filename=Flask_Compress-1.4.0-cp35-none-any.whl size=2866 sha256=e6f58d32dbcf260b7462f28d155a293de761d46efe83c698531bc51814b1a49a\n",
      "  Stored in directory: /home/apgcegeohack/.cache/pip/wheels/96/32/88/a1f6d9dd3c29570ab3a8acc0d556b3b20abcf3c623c868ce0a\n",
      "  Building wheel for dash-renderer (setup.py) ... \u001b[?25ldone\n",
      "\u001b[?25h  Created wheel for dash-renderer: filename=dash_renderer-1.1.2-cp35-none-any.whl size=1166903 sha256=6988289579da20a6987513fb9e8c6e0aef1691d9e06844528eedd196d45b3d2c\n",
      "  Stored in directory: /home/apgcegeohack/.cache/pip/wheels/f6/07/8b/f262dd356b8cb359a5b3f5e4ff9d4ddb85854bd51f824ffa58\n",
      "  Building wheel for dash-core-components (setup.py) ... \u001b[?25ldone\n",
      "\u001b[?25h  Created wheel for dash-core-components: filename=dash_core_components-1.3.1-cp35-none-any.whl size=2116124 sha256=c33bfbed2c91a885a750fd7d5135eda565e6ef13ae91de549135d46cfc13d23d\n",
      "  Stored in directory: /home/apgcegeohack/.cache/pip/wheels/1c/17/c0/2b0efaea7c795d0b1c29e040683c10e8e2c78919d26ad1c0ae\n",
      "  Building wheel for dash-html-components (setup.py) ... \u001b[?25ldone\n",
      "\u001b[?25h  Created wheel for dash-html-components: filename=dash_html_components-1.0.1-cp35-none-any.whl size=427060 sha256=9094659f040d1027d45c6055096a4b600cf3816115351a9a49d0525c533fdb2f\n",
      "  Stored in directory: /home/apgcegeohack/.cache/pip/wheels/54/27/d1/b452e9aa92aa1883543248a23707d448ada5f990d603f2ebf1\n",
      "  Building wheel for dash-table (setup.py) ... \u001b[?25ldone\n",
      "\u001b[?25h  Created wheel for dash-table: filename=dash_table-4.4.1-cp35-none-any.whl size=1808868 sha256=e0b0bd8b4a49c253be8d21a9ce706a740e3c45d80e0e7082a3dabab29385a1da\n",
      "  Stored in directory: /home/apgcegeohack/.cache/pip/wheels/ea/fe/22/bb954af16a3c143e10a76ae239f73b5812c7d77d7b2d6c1af3\n",
      "Successfully built dash flask-compress dash-renderer dash-core-components dash-html-components dash-table\n",
      "Installing collected packages: flask-compress, dash-renderer, dash-core-components, dash-html-components, dash-table, dash\n",
      "Successfully installed dash-1.4.1 dash-core-components-1.3.1 dash-html-components-1.0.1 dash-renderer-1.1.2 dash-table-4.4.1 flask-compress-1.4.0\n",
      "\u001b[33mWARNING: You are using pip version 19.2.2, however version 19.3.1 is available.\n",
      "You should consider upgrading via the 'pip install --upgrade pip' command.\u001b[0m\n",
      "Requirement already satisfied: dash-renderer in /data/anaconda/envs/py35/lib/python3.5/site-packages (1.1.2)\n",
      "\u001b[33mWARNING: You are using pip version 19.2.2, however version 19.3.1 is available.\n",
      "You should consider upgrading via the 'pip install --upgrade pip' command.\u001b[0m\n",
      "Requirement already satisfied: dash_html_components in /data/anaconda/envs/py35/lib/python3.5/site-packages (1.0.1)\n",
      "\u001b[33mWARNING: You are using pip version 19.2.2, however version 19.3.1 is available.\n",
      "You should consider upgrading via the 'pip install --upgrade pip' command.\u001b[0m\n",
      "Requirement already satisfied: dash_core_components in /data/anaconda/envs/py35/lib/python3.5/site-packages (1.3.1)\n",
      "\u001b[33mWARNING: You are using pip version 19.2.2, however version 19.3.1 is available.\n",
      "You should consider upgrading via the 'pip install --upgrade pip' command.\u001b[0m\n"
     ]
    }
   ],
   "source": [
    "!pip install dash\n",
    "!pip install dash-renderer\n",
    "!pip install dash_html_components\n",
    "!pip install dash_core_components"
   ]
  },
  {
   "cell_type": "code",
   "execution_count": 2,
   "metadata": {},
   "outputs": [
    {
     "name": "stderr",
     "output_type": "stream",
     "text": [
      "/anaconda/envs/py35/lib/python3.5/importlib/_bootstrap.py:222: RuntimeWarning: numpy.dtype size changed, may indicate binary incompatibility. Expected 96, got 88\n",
      "  return f(*args, **kwds)\n",
      "/anaconda/envs/py35/lib/python3.5/importlib/_bootstrap.py:222: RuntimeWarning: numpy.dtype size changed, may indicate binary incompatibility. Expected 96, got 88\n",
      "  return f(*args, **kwds)\n"
     ]
    }
   ],
   "source": [
    "import dash\n",
    "import dash_core_components as dcc\n",
    "import dash_html_components as html"
   ]
  },
  {
   "cell_type": "code",
   "execution_count": 3,
   "metadata": {},
   "outputs": [],
   "source": [
    "app = dash.Dash()"
   ]
  },
  {
   "cell_type": "code",
   "execution_count": 4,
   "metadata": {},
   "outputs": [],
   "source": [
    "app.layout = html.Div([\n",
    "    html.H1(\"Hello Dash!!!\"),\n",
    "    html.Div('Dash - A Data Product development framework from plotly')\n",
    "])"
   ]
  },
  {
   "cell_type": "code",
   "execution_count": 5,
   "metadata": {},
   "outputs": [
    {
     "ename": "SyntaxError",
     "evalue": "invalid syntax (<ipython-input-5-e935db6fb091>, line 1)",
     "output_type": "error",
     "traceback": [
      "\u001b[0;36m  File \u001b[0;32m\"<ipython-input-5-e935db6fb091>\"\u001b[0;36m, line \u001b[0;32m1\u001b[0m\n\u001b[0;31m    if __name__ == '__main__'\u001b[0m\n\u001b[0m                             ^\u001b[0m\n\u001b[0;31mSyntaxError\u001b[0m\u001b[0;31m:\u001b[0m invalid syntax\n"
     ]
    }
   ],
   "source": [
    "if __name__ == '__main__'\n",
    "app.run_server(port=4050)"
   ]
  }
 ],
 "metadata": {
  "kernelspec": {
   "display_name": "Python 3.5",
   "language": "python",
   "name": "python3"
  },
  "language_info": {
   "codemirror_mode": {
    "name": "ipython",
    "version": 3
   },
   "file_extension": ".py",
   "mimetype": "text/x-python",
   "name": "python",
   "nbconvert_exporter": "python",
   "pygments_lexer": "ipython3",
   "version": "3.5.5"
  }
 },
 "nbformat": 4,
 "nbformat_minor": 2
}
